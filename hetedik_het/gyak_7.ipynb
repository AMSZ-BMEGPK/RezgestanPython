{
 "cells": [
  {
   "cell_type": "markdown",
   "metadata": {},
   "source": [
    "# 7. Gyakorlat - 1 DoF negyed-jármű modell\n",
    "2021.03.22.\n",
    "\n",
    "## Feladat:"
   ]
  },
  {
   "cell_type": "code",
   "execution_count": 1,
   "metadata": {},
   "outputs": [],
   "source": [
    "from IPython.display import Image\n",
    "Image(filename='gyak7_1.png',width=600)"
   ]
  },
  {
   "cell_type": "markdown",
   "metadata": {},
   "source": [
    "A mellékelt ábrán egy negyed-jármű modell látható, mellyel a jármű függőleges dinamikáját lehet vizsgáni. A gyakorlatban a lengéscsillapító merevségét és csillapítási tényezőjét az útviszonyoknak megfelelően, a komfort szempotokat kielégítve szokták beállítani. A negyed-jármű tömegét $m$, a lengéscsilapító egyenértékű merevségét $k$, csillapítási tényezőjét $c$ jelöli. A jármű longitudinális sebesség komponense $v$ konstans, míg a harmonikus útprofil miatt a függőleges sebesség komponenst az $r(t) = R\\sin(\\omega t)$ függvénnyel lehet megadni, ahol $R$ az út egyenetlenségének amplitúdója, $\\omega$ pedig a gerjesztési frekvencia, melyet a $v$ sebesség és az $L$ hullámhossz határoz meg. A mozgás leírásáshoz az $y(t)$ általános koordinátát használjuk. A gravitációs hatást elhanyagoljuk és feltételezzük, hogy a kerék sosem emelkedik el a talajtól.\n",
    "\n",
    "### Adatok:\n",
    "|||\n",
    "|---------------------------|---------------------------|\n",
    "| $m$ = 300 kg              | $v$ = 36 km/h = 10 m/s    |\n",
    "| $k$ = 2$\\cdot$10$^5$ N/m  | $R$ = 0,04 m              |\n",
    "| $c$ = 9800 Ns/m           | $L$ = 1,2 m               |\n",
    "| $r(t)$ = $R\\sin(\\omega t)$|\n",
    "\n",
    "### Részfeladatok:\n",
    "\n",
    "1. Írja fel a negyed-jármű modell mozgásegyenletét!\n",
    "2. Számítsa ki a csillapított és a csillapítatlan rendszer sajátkörfrekvenciáját, a relatív csillapítási tényezőt, a frekvencia hányadost és a statikus deformációt!\n",
    "3. Határozza meg az állandósult állapotot leíró mozgástörvényt $y_p(t) = Y\\sin(\\omega t+\\delta-\\vartheta)$ alakban!\n",
    "4. Határozza meg a stacionárius állapotban a csillapító erő maximumát ($F_{d,max}$)!\n",
    "\n",
    "## Megoldás:"
   ]
  },
  {
   "cell_type": "code",
   "execution_count": 2,
   "metadata": {},
   "outputs": [],
   "source": [
    "from IPython.display import Image\n",
    "Image(filename='gyak7_2.png',width=500)"
   ]
  },
  {
   "cell_type": "markdown",
   "metadata": {},
   "source": [
    "## 1. Feladat:\n",
    "A fenti ábrán a negyed-jármű modell szabadtest ábrája látható egy kitérített pozícióban. A mozgás egyenlet Newton II alapján:\n",
    "\n",
    "\\begin{equation}\n",
    "    \\dot{\\mathbf{I}}=\\mathbf{F}.\n",
    "\\end{equation}\n",
    "\n",
    "Mivel most csak a függőleges mozgásra vagyunk kíváncsiak, ezért a mozgásegyenlet a következő alakban adódik\n",
    "\n",
    "\\begin{equation}\n",
    "    m\\ddot{y} = -F_s(t)-F_d(t),\n",
    "\\end{equation}\n",
    "\n",
    "ahol $F_s(t)$ és $F_d(t)$ a rugóerő és a csillapítóerő\n",
    "\n",
    "\\begin{equation}\n",
    "    F_s(t) = k(y-r(t)),\n",
    "\\end{equation}\n",
    "\\begin{equation}\n",
    "    F_d(t) = c(\\dot{y}-\\dot{r}(t)).\n",
    "\\end{equation}"
   ]
  },
  {
   "cell_type": "code",
   "execution_count": 3,
   "metadata": {},
   "outputs": [],
   "source": [
    "import sympy as sp\n",
    "from IPython.display import display, Math\n",
    "\n",
    "sp.init_printing()"
   ]
  },
  {
   "cell_type": "code",
   "execution_count": 4,
   "metadata": {},
   "outputs": [
    {
     "data": {
      "text/latex": [
       "$\\displaystyle F_s = k \\left(- R \\sin{\\left(t ω \\right)} + y{\\left(t \\right)}\\right)$"
      ],
      "text/plain": [
       "<IPython.core.display.Math object>"
      ]
     },
     "metadata": {},
     "output_type": "display_data"
    },
    {
     "data": {
      "text/latex": [
       "$\\displaystyle F_c = c \\left(- R ω \\cos{\\left(t ω \\right)} + \\frac{d}{d t} y{\\left(t \\right)}\\right)$"
      ],
      "text/plain": [
       "<IPython.core.display.Math object>"
      ]
     },
     "metadata": {},
     "output_type": "display_data"
    }
   ],
   "source": [
    "## Függvények, szimbólumok definiálása\n",
    "\n",
    "m, k, c, v, R, L, ω= sp.symbols(\"m, k, c, v, R, L, ω\", real=True)\n",
    "\n",
    "# Készítsünk behelyettesítési listát az adatok alapján, SI-ben\n",
    "adatok = [(m, 300), (k, 2*10**5), (c, 9300), (v,10), (R, 0.04), (L, 1.2)]\n",
    "\n",
    "#általános koordináta\n",
    "t = sp.symbols(\"t\",real=True, positive=True)\n",
    "y = sp.Function('y')(t)\n",
    "\n",
    "# Útgerjesztés\n",
    "r = R*sp.sin(ω*t)\n",
    "\n",
    "# Rugóerő, csillapítóerő\n",
    "F_s = k*(y-r)\n",
    "F_c = c*(y.diff(t)-r.diff(t))\n",
    "display(Math('F_s = {}'.format(sp.latex(F_s))),Math('F_c = {}'.format(sp.latex(F_c))))"
   ]
  },
  {
   "cell_type": "code",
   "execution_count": 5,
   "metadata": {},
   "outputs": [
    {
     "data": {
      "text/latex": [
       "$\\displaystyle ω_g = \\frac{2 \\pi v}{L}$"
      ],
      "text/plain": [
       "<IPython.core.display.Math object>"
      ]
     },
     "metadata": {},
     "output_type": "display_data"
    },
    {
     "data": {
      "text/latex": [
       "$\\displaystyle ω_g = 52.3599$"
      ],
      "text/plain": [
       "<IPython.core.display.Math object>"
      ]
     },
     "metadata": {},
     "output_type": "display_data"
    }
   ],
   "source": [
    "# A gerjesztési frekvencia a hullámhosszal és a longitudinális sebességgel fejezhető ki\n",
    "\n",
    "# periódusidő\n",
    "T_g = L/v\n",
    "\n",
    "# gerjesztési körfrekvencia\n",
    "# Ennek a mennyiségnek hozzunk létre egy új változót és ne a korábban használt ω-t írjuk felül\n",
    "# (Ez azért fontos, mert az ω szimbólum már szerepel az útgerjesztés kifejezésében és ott nem fog felülíródni)\n",
    "ω_g = 2*sp.pi/T_g\n",
    "display(Math('ω_g = {}'.format(sp.latex(ω_g))))\n",
    "\n",
    "# Numerikusan\n",
    "ω_g_num = ω_g.subs(adatok).evalf(6)\n",
    "display(Math('ω_g = {}'.format(sp.latex(ω_g_num))))\n",
    "\n",
    "# [rad/s]"
   ]
  },
  {
   "cell_type": "code",
   "execution_count": 6,
   "metadata": {},
   "outputs": [
    {
     "data": {
      "image/png": "[encoded data removed]",
      "text/latex": [
       "$\\displaystyle - R c ω \\cos{\\left(t ω \\right)} - R k \\sin{\\left(t ω \\right)} + c \\frac{d}{d t} y{\\left(t \\right)} + k y{\\left(t \\right)} + m \\frac{d^{2}}{d t^{2}} y{\\left(t \\right)}$"
      ],
      "text/plain": [
       "                                                           2      \n",
       "                                   d                      d       \n",
       "-R⋅c⋅ω⋅cos(t⋅ω) - R⋅k⋅sin(t⋅ω) + c⋅──(y(t)) + k⋅y(t) + m⋅───(y(t))\n",
       "                                   dt                      2      \n",
       "                                                         dt       "
      ]
     },
     "execution_count": 6,
     "metadata": {},
     "output_type": "execute_result"
    }
   ],
   "source": [
    "# mozgásegyenlet nullára rendezve\n",
    "mozgegy = (m*y.diff(t,2)+F_s+F_c).apart(y)\n",
    "mozgegy"
   ]
  },
  {
   "cell_type": "markdown",
   "metadata": {},
   "source": [
    "A mozgásegyenletben a gerjesztés az alább egyszerűsített alakra hozható:\n",
    "\n",
    "\\begin{equation}\n",
    "    kR\\sin(\\omega t)+cR\\omega\\cos(\\omega t) = F_0\\sin(\\omega t+\\delta),\n",
    "\\end{equation}\n",
    "\n",
    "ahol $\\delta$ a fáziskésés és $F_0$ a gerjesztés erőamplitúdója. Trigonometrikus azonosságot alkalmazva ez a kifejezés kibontható:\n",
    "\n",
    "\\begin{equation}\n",
    "    F_0\\sin(\\omega t+\\delta) = F_0\\sin(\\omega t)\\cos(\\delta) + F_0\\cos(\\omega t)\\sin(\\delta),\n",
    "\\end{equation}\n",
    "\n",
    "majd összevetve a gerjesztés eredeti alakjavál, az egyenlet két oldalán a szinusz és a koszinusz függvény együtthatói meg kell egyezzenek\n",
    "\n",
    "\\begin{equation}\n",
    "    kR\\sin(\\omega t)+cR\\omega\\cos(\\omega t) = F_0\\sin(\\omega t)\\cos(\\delta) + F_0\\cos(\\omega t)\\sin(\\delta),\n",
    "\\end{equation}\n",
    "\n",
    "Így ebből $F_0$ és $\\delta$ paraméterek meghatározhatók."
   ]
  },
  {
   "cell_type": "code",
   "execution_count": 7,
   "metadata": {},
   "outputs": [
    {
     "data": {
      "image/png": "[encoded data removed]",
      "text/latex": [
       "$\\displaystyle F_{0} \\sin{\\left(δ \\right)} \\cos{\\left(t ω \\right)} + F_{0} \\sin{\\left(t ω \\right)} \\cos{\\left(δ \\right)}$"
      ],
      "text/plain": [
       "F₀⋅sin(δ)⋅cos(t⋅ω) + F₀⋅sin(t⋅ω)⋅cos(δ)"
      ]
     },
     "execution_count": 7,
     "metadata": {},
     "output_type": "execute_result"
    }
   ],
   "source": [
    "δ, F_0 = sp.symbols(\"δ, F_0\")\n",
    "# A sympy jól ismert expand() függvénye a trigonometrikus azonosságokra nem alkalmazható.\n",
    "# Szerencsére erre van egy külön függvény, az expand_trig()\n",
    "# (Megjegyzés: ugyanúgy a simplify() sem alkalmazható trigonometrikus kifejezések egyszerűsétésére,\n",
    "# abban az esetben a trigsimp() függvény nyújthat segítséget)\n",
    "gerj_expand = sp.expand_trig(F_0*sp.sin(ω*t+δ)).expand()\n",
    "gerj_expand"
   ]
  },
  {
   "cell_type": "code",
   "execution_count": 8,
   "metadata": {},
   "outputs": [
    {
     "data": {
      "image/png": "[encoded data removed]",
      "text/latex": [
       "$\\displaystyle - R c ω \\cos{\\left(t ω \\right)} - R k \\sin{\\left(t ω \\right)}$"
      ],
      "text/plain": [
       "-R⋅c⋅ω⋅cos(t⋅ω) - R⋅k⋅sin(t⋅ω)"
      ]
     },
     "execution_count": 8,
     "metadata": {},
     "output_type": "execute_result"
    }
   ],
   "source": [
    "# Most szedjük ki a mozgásegyenletből a gerjesztést\n",
    "gerj = mozgegy.coeff(y,0) # y nulladik hatványának az együtthatója (a diffegyenlet inhomogenitását okozó tagja)\n",
    "gerj"
   ]
  },
  {
   "cell_type": "code",
   "execution_count": 9,
   "metadata": {},
   "outputs": [
    {
     "data": {
      "text/latex": [
       "$\\displaystyle F_0 = \\frac{R c^{2} ω^{2}}{k + \\sqrt{c^{2} ω^{2} + k^{2}}} + R k$"
      ],
      "text/plain": [
       "<IPython.core.display.Math object>"
      ]
     },
     "metadata": {},
     "output_type": "display_data"
    },
    {
     "data": {
      "text/latex": [
       "$\\displaystyle δ = - 2 \\operatorname{atan}{\\left(\\frac{k - \\sqrt{c^{2} ω^{2} + k^{2}}}{c ω} \\right)}$"
      ],
      "text/plain": [
       "<IPython.core.display.Math object>"
      ]
     },
     "metadata": {},
     "output_type": "display_data"
    },
    {
     "data": {
      "text/latex": [
       "$\\displaystyle F_0 = 21056.771$"
      ],
      "text/plain": [
       "<IPython.core.display.Math object>"
      ]
     },
     "metadata": {},
     "output_type": "display_data"
    },
    {
     "data": {
      "text/latex": [
       "$\\displaystyle δ = 1.1811$"
      ],
      "text/plain": [
       "<IPython.core.display.Math object>"
      ]
     },
     "metadata": {},
     "output_type": "display_data"
    }
   ],
   "source": [
    "# És most oldjuk meg az adódó egyenletrendszert az együtthatókra\n",
    "egyutthatok = sp.solve([gerj.coeff(sp.sin(ω*t))-gerj_expand.coeff(sp.sin(ω*t)), gerj.coeff(sp.cos(ω*t))-gerj_expand.coeff(sp.cos(ω*t))],F_0,δ)\n",
    "F_0_val = sp.ratsimp(egyutthatok[1][0]) # A két megoldás közül a pozitívat vesszük ki\n",
    "δ_val = sp.simplify(egyutthatok[0][1])\n",
    "display(Math('F_0 = {}'.format(sp.latex(F_0_val))), Math('δ = {}'.format(sp.latex(δ_val))))\n",
    "\n",
    "# numerikusan\n",
    "F_0_num = F_0_val.subs(ω, ω_g).subs(adatok).evalf(8)\n",
    "δ_num = δ_val.subs(ω, ω_g).subs(adatok).evalf(5)\n",
    "display(Math('F_0 = {}'.format(sp.latex(F_0_num))), Math('δ = {}'.format(sp.latex(δ_num))))\n",
    "\n",
    "# [N]\n",
    "# [rad]"
   ]
  },
  {
   "cell_type": "markdown",
   "metadata": {},
   "source": [
    "## 2. Feladat"
   ]
  },
  {
   "cell_type": "code",
   "execution_count": 10,
   "metadata": {},
   "outputs": [
    {
     "data": {
      "text/latex": [
       "$\\displaystyle ω_n= 25.8199$"
      ],
      "text/plain": [
       "<IPython.core.display.Math object>"
      ]
     },
     "metadata": {},
     "output_type": "display_data"
    },
    {
     "data": {
      "text/latex": [
       "$\\displaystyle λ = 2.0279$"
      ],
      "text/plain": [
       "<IPython.core.display.Math object>"
      ]
     },
     "metadata": {},
     "output_type": "display_data"
    },
    {
     "data": {
      "text/latex": [
       "$\\displaystyle ζ = 0.6003$"
      ],
      "text/plain": [
       "<IPython.core.display.Math object>"
      ]
     },
     "metadata": {},
     "output_type": "display_data"
    },
    {
     "data": {
      "text/latex": [
       "$\\displaystyle ω_d = 20.6499$"
      ],
      "text/plain": [
       "<IPython.core.display.Math object>"
      ]
     },
     "metadata": {},
     "output_type": "display_data"
    },
    {
     "data": {
      "text/latex": [
       "$\\displaystyle f_0 = 0.1053$"
      ],
      "text/plain": [
       "<IPython.core.display.Math object>"
      ]
     },
     "metadata": {},
     "output_type": "display_data"
    }
   ],
   "source": [
    "# Mozgásegyenlet leosztása a főegyütthatóval\n",
    "mozgegy = (mozgegy/mozgegy.coeff(y.diff(t,2))).expand()\n",
    "\n",
    "# csillapítatlan sajátkörfrekvencia\n",
    "ω_n = sp.sqrt(mozgegy.coeff(y))\n",
    "\n",
    "# frekvenciahányados\n",
    "λ = ω_g/ω_n\n",
    "\n",
    "# Relatív csillapítási tényező\n",
    "ζ = mozgegy.coeff(y.diff(t))/(2*ω_n)\n",
    "\n",
    "# csillapított sajátkörfrekvencia\n",
    "ω_d = ω_n*sp.sqrt(1-ζ**2)\n",
    "\n",
    "# statikus deformáció\n",
    "f_0 = F_0_val/(ω_n**2*m)\n",
    "\n",
    "## Numerikusan\n",
    "\n",
    "ω_n_num = ω_n.subs(ω, ω_g).subs(adatok).evalf(6)\n",
    "λ_num = λ.subs(ω, ω_g).subs(adatok).evalf(5)\n",
    "ζ_num = ζ.subs(ω, ω_g).subs(adatok).evalf(4)\n",
    "ω_d_num = ω_d.subs(ω, ω_g).subs(adatok).evalf(6)\n",
    "f_0_num = f_0.subs(ω, ω_g).subs(adatok).evalf(4)\n",
    "\n",
    "display(Math('ω_n= {}'.format(sp.latex(ω_n_num))), Math('λ = {}'.format(sp.latex(λ_num))))\n",
    "display(Math('ζ = {}'.format(sp.latex(ζ_num))), Math('ω_d = {}'.format(sp.latex(ω_d_num))))\n",
    "display(Math('f_0 = {}'.format(sp.latex(f_0_num))))\n",
    "\n",
    "# [rad/s]\n",
    "# [1]\n",
    "# [1]\n",
    "# [rad/s]\n",
    "# [m]"
   ]
  },
  {
   "cell_type": "markdown",
   "metadata": {},
   "source": [
    "## 3. Feladat\n",
    "Az állandósult állapotban a rendszert leíró mozgástörvényt a differenciálegyenlet partikuláris megoldása adja, melyet az alábbi alakra lehet rendezni\n",
    "\n",
    "\\begin{equation}\n",
    "     y_p(t) = Y_1\\sin(\\omega t+\\delta_1-\\vartheta_1),\n",
    "\\end{equation}\n",
    "\n",
    "ahol $Y$ az állandósult állapotban a rezgés amplitúdó, $\\vartheta$ az erőgerjesztéshez képesti fáziskésés, $\\delta-\\vartheta$ pedig az útgerjesztéshez képesti fáziskésés."
   ]
  },
  {
   "cell_type": "code",
   "execution_count": 11,
   "metadata": {},
   "outputs": [
    {
     "data": {
      "text/latex": [
       "$\\displaystyle N = 0.3784$"
      ],
      "text/plain": [
       "<IPython.core.display.Math object>"
      ]
     },
     "metadata": {},
     "output_type": "display_data"
    },
    {
     "data": {
      "text/latex": [
       "$\\displaystyle Y = 0.0398$"
      ],
      "text/plain": [
       "<IPython.core.display.Math object>"
      ]
     },
     "metadata": {},
     "output_type": "display_data"
    }
   ],
   "source": [
    "# Az Y rezgésamplitúdó a nagyítási függvény segítségével fejezhető ki\n",
    "# Nagyítási függvény\n",
    "N = 1/(sp.sqrt((1-λ)**2+4*ζ**2*λ**2))\n",
    "N_num = N.subs(adatok).evalf(4)\n",
    "display(Math('N = {}'.format(sp.latex(N_num))))\n",
    "\n",
    "## Rezgésamplitúdó\n",
    "Y = N*f_0\n",
    "Y_num = Y.subs(ω,ω_g).subs(adatok).evalf(3)\n",
    "display(Math('Y = {}'.format(sp.latex(Y_num))))\n",
    "\n",
    "# [1]\n",
    "# [m]"
   ]
  },
  {
   "cell_type": "code",
   "execution_count": 12,
   "metadata": {},
   "outputs": [
    {
     "data": {
      "text/latex": [
       "$\\displaystyle ϑ = 2.4777$"
      ],
      "text/plain": [
       "<IPython.core.display.Math object>"
      ]
     },
     "metadata": {},
     "output_type": "display_data"
    }
   ],
   "source": [
    "# A fáziskésés\n",
    "ϑ =  sp.atan2(2*ζ*λ,(1-λ**2))\n",
    "ϑ_num = (ϑ).subs(adatok).evalf(5)\n",
    "display(Math('ϑ = {}'.format(sp.latex(ϑ_num))))\n",
    "\n",
    "# [rad]"
   ]
  },
  {
   "cell_type": "code",
   "execution_count": 13,
   "metadata": {},
   "outputs": [
    {
     "data": {
      "text/latex": [
       "$\\displaystyle y_p = 0.0398 \\sin{\\left(t ω - 1.2967 \\right)}$"
      ],
      "text/plain": [
       "<IPython.core.display.Math object>"
      ]
     },
     "metadata": {},
     "output_type": "display_data"
    }
   ],
   "source": [
    "# A partikuláris megoldás\n",
    "yp =Y*sp.sin(ω*t+δ-ϑ)\n",
    "yp_num = Y_num*sp.sin(ω*t+δ_num-ϑ_num)\n",
    "display(Math('y_p = {}'.format(sp.latex(yp_num))))\n",
    "\n",
    "# [m]"
   ]
  },
  {
   "cell_type": "markdown",
   "metadata": {},
   "source": [
    "## 4. Feladat"
   ]
  },
  {
   "cell_type": "markdown",
   "metadata": {},
   "source": [
    "A csillíptási erő az alábbi kondenzált formára hozható\n",
    "\n",
    "\\begin{equation}\n",
    "    F_c(t) = c(\\dot{y}_p(t)-\\dot{r}(t)) = c \\omega(Y\\cos(\\omega t+\\delta-\\vartheta)-R\\cos(\\omega t)) \n",
    "\\end{equation}\n",
    "\n",
    "\\begin{equation}\n",
    "    (1) \\hspace{20pt} c\\omega(Y\\cos(\\omega t+\\delta-\\vartheta)-R\\cos(\\omega t)) = c\\omega Y^*\\cos(\\omega t+\\delta^*)\n",
    "\\end{equation}\n",
    "\n",
    "A csillapítási erő amplitúdója ($Y^*$) az első feladatban ismeretett módon most is meghatározható az (1) egyenlet trigonometrikus bővítésével, majd az együtthatókra adódó egyenletrendszer megoldássával. Nézzük meg hogyan lehetne megkeresni az erőmaximumot numerikus módszer segítségével. Ehhez először célszerű kirajzoltatni a függvényünket."
   ]
  },
  {
   "cell_type": "code",
   "execution_count": 14,
   "metadata": {},
   "outputs": [],
   "source": [
    "# Csillapítási erő az állandósult állapotban\n",
    "F_c_stac = F_c.subs(y, yp).simplify()\n",
    "\n",
    "# numerikusan az idő függvényeként megadva\n",
    "F_c_stac_num = (F_c_stac.subs(ω, ω_g).subs(δ, δ_num).subs(adatok)).evalf(5)"
   ]
  },
  {
   "cell_type": "code",
   "execution_count": 15,
   "metadata": {},
   "outputs": [],
   "source": [
    "import numpy as np\n",
    "import matplotlib.pyplot as plt"
   ]
  },
  {
   "cell_type": "code",
   "execution_count": 16,
   "metadata": {},
   "outputs": [
    {
     "data": {
      "image/png": "[encoded data removed]",
      "text/plain": [
       "<Figure size 850.394x708.661 with 1 Axes>"
      ]
     },
     "metadata": {
      "needs_background": "light"
     },
     "output_type": "display_data"
    }
   ],
   "source": [
    "### Csillapítási erőidőfüggvényének ábrázolása\n",
    "\n",
    "t_val = np.linspace(0,0.5,1000) # lista létrehozása a [0 ; 0,5] intervallum 1000 részre való bontásával \n",
    "F_c_val = np.zeros(len(t_val)) # nulla lista létrehozása (ugyanannyi elemszámmal)\n",
    "# for ciklus segítségével írjuk felül a nulla listában szereplő elemelet az adott x értékhez tartozó y értékekkel\n",
    "for i in range(len(t_val)):\n",
    "    F_c_val[i] = F_c_stac_num.subs(t,t_val[i]).evalf()\n",
    "\n",
    "    \n",
    "# rajzterület létrehozása    \n",
    "plt.figure(figsize=(30/2.54,25/2.54))\n",
    "\n",
    "# függvény kirajzolása az x és y kordináta értékeket tartalmazó listák megadásásval\n",
    "plt.plot(t_val,F_c_val,color='r',label=r'num_sim')\n",
    "\n",
    "# tengelyek\n",
    "axes = plt.gca()\n",
    "axes.set_xlim([0,t_val[-1]])\n",
    "axes.set_ylim([-25000, 25000])\n",
    "\n",
    "# rácsozás\n",
    "plt.grid()\n",
    "\n",
    "# tengelyfeliratozás\n",
    "plt.xlabel(r'$ t [s] $',fontsize=30)\n",
    "plt.ylabel(r'$ F_c(t) [N] $',fontsize=30)\n",
    "\n",
    "plt.show()"
   ]
  },
  {
   "cell_type": "code",
   "execution_count": 17,
   "metadata": {},
   "outputs": [
    {
     "data": {
      "text/latex": [
       "$\\displaystyle F_{c,max} = 23476.11$"
      ],
      "text/plain": [
       "<IPython.core.display.Math object>"
      ]
     },
     "metadata": {},
     "output_type": "display_data"
    }
   ],
   "source": [
    "# Az erőmaximum az erőértékeket tartalmazó listából könnyen kiszedhető a max() függvénnyel\n",
    "F_c_max = np.around(max(F_c_val),decimals=2) # két tizedesre kerekítve\n",
    "\n",
    "display(Math('F_{{c,max}} = {}'.format(sp.latex(F_c_max))))\n",
    "\n",
    "# [N]"
   ]
  },
  {
   "cell_type": "markdown",
   "metadata": {},
   "source": [
    "Készítette: \n",
    "    Juhos-Kiss Álmos (Alkalmazott Mechanika Szakosztály) \n",
    "    Takács Dénes (BME MM) kidolgozása és ábrái alapján.\n",
    "\n",
    "        Hibák, javaslatok:\n",
    "        amsz.bme@gmail.com\n",
    "        csuzdi02@gmail.com\n",
    "        almosjuhoskiss@gmail.com\n",
    "\n",
    "            2021.03.22\n",
    "        "
   ]
  }
 ],
 "metadata": {
  "kernelspec": {
   "display_name": "Python 3",
   "language": "python",
   "name": "python3"
  },
  "language_info": {
   "codemirror_mode": {
    "name": "ipython",
    "version": 3
   },
   "file_extension": ".py",
   "mimetype": "text/x-python",
   "name": "python",
   "nbconvert_exporter": "python",
   "pygments_lexer": "ipython3",
   "version": "3.8.5"
  }
 },
 "nbformat": 4,
 "nbformat_minor": 5
}
