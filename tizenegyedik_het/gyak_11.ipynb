{
 "cells": [
  {
   "cell_type": "markdown",
   "id": "protective-bosnia",
   "metadata": {},
   "source": [
    "# 11. Gyakorlat - Rezgésgerjesztő\n",
    "2021.04.19.\n",
    "\n",
    "## Feladat:"
   ]
  },
  {
   "cell_type": "markdown",
   "id": "velvet-paragraph",
   "metadata": {},
   "source": [
    "<center><img src=\"gyak11_1.png\" width=800/></center>"
   ]
  },
  {
   "cell_type": "markdown",
   "id": "compressed-coalition",
   "metadata": {},
   "source": [
    "A mellékelt ábrán az $m_1$, $m_2$ és $m_3$ tömegekből álló 3 szabadságfokú rendszer látható. A testeket egy-egy rugó köti össze melyeknek merevsége $k_1$ és $k_2$. A testek elmozdulásait az $x_1$, $x_2$ és $x_3$ általános koordináták írják le.\n",
    "\n",
    "### Adatok:\n",
    "|||\n",
    "|-------------------------------------|-------------------------------------|\n",
    "| $m_1$ = 2 kg                        | $k_1$ = 200 N/m                     |\n",
    "| $m_2$ = 4 kg                        | $k_2$ = 500 N/m                     |\n",
    "| $m_3$ = 5 kg                        |\n",
    "\n",
    "### Részfeladatok:\n",
    "\n",
    "1. Írja fel a mozgásegyenleteket!\n",
    "2. Számítsa ki a többszabdságfokú rendszer sajátkörfrekveciáit és a hozzá tartozó lengésképvektorokat!\n",
    "\n",
    "## Megoldás:"
   ]
  },
  {
   "cell_type": "markdown",
   "id": "vietnamese-reggae",
   "metadata": {},
   "source": [
    "## 1. Feladat:\n",
    "Kis elmozdulások esetén a lineáris mozgásegyenlet mátrixegyütthatós alakja a következő egyenlettel adható meg\n",
    "\n",
    "$$\\mathbf{M}\\mathbf{\\ddot{q}}+\\mathbf{C\\dot{q}}+\\mathbf{Kq} = \\mathbf{Q^*},$$\n",
    "\n",
    "ahol $\\mathbf{q}$ az általános koordináták vektora, $\\mathbf{M}$ a tömegmátrix, $\\mathbf{C}$ a csillapítási mátrix, $\\mathbf{K}$ a merevségi mátrix, $\\mathbf{Q^*}$ pedig az általános erők vektora."
   ]
  },
  {
   "cell_type": "code",
   "execution_count": 1,
   "id": "egyptian-invention",
   "metadata": {},
   "outputs": [],
   "source": [
    "import sympy as sp\n",
    "from IPython.display import display, Math\n",
    "\n",
    "sp.init_printing()"
   ]
  },
  {
   "cell_type": "code",
   "execution_count": 2,
   "id": "sound-crazy",
   "metadata": {},
   "outputs": [],
   "source": [
    "## Függvények, szimbólumok definiálása\n",
    "\n",
    "m1, m2, m3, k1, k2 = sp.symbols(\"m1, m2, m3, k1, k2\", real=True)\n",
    "\n",
    "# Készítsünk behelyettesítési listát az adatok alapján, SI-ben\n",
    "adatok = [(m1, 2), (m2, 4), (m3, 5), (k1, 200), (k2, 500)]\n",
    "\n",
    "# általános koordináták\n",
    "t = sp.symbols(\"t\", real=True, positive=True)\n",
    "x1 = sp.Function('x1')(t)\n",
    "x2 = sp.Function('x2')(t)\n",
    "x3 = sp.Function('x3')(t)"
   ]
  },
  {
   "cell_type": "code",
   "execution_count": 3,
   "id": "capable-summit",
   "metadata": {},
   "outputs": [
    {
     "data": {
      "text/latex": [
       "$\\displaystyle T = \\frac{m_{1} \\left(\\frac{d}{d t} \\operatorname{x_{1}}{\\left(t \\right)}\\right)^{2}}{2} + \\frac{m_{2} \\left(\\frac{d}{d t} \\operatorname{x_{2}}{\\left(t \\right)}\\right)^{2}}{2} + \\frac{m_{3} \\left(\\frac{d}{d t} \\operatorname{x_{3}}{\\left(t \\right)}\\right)^{2}}{2}$"
      ],
      "text/plain": [
       "<IPython.core.display.Math object>"
      ]
     },
     "metadata": {},
     "output_type": "display_data"
    },
    {
     "data": {
      "text/latex": [
       "$\\displaystyle U = \\frac{k_{1} \\left(- \\operatorname{x_{1}}{\\left(t \\right)} + \\operatorname{x_{2}}{\\left(t \\right)}\\right)^{2}}{2} + \\frac{k_{2} \\left(- \\operatorname{x_{2}}{\\left(t \\right)} + \\operatorname{x_{3}}{\\left(t \\right)}\\right)^{2}}{2}$"
      ],
      "text/plain": [
       "<IPython.core.display.Math object>"
      ]
     },
     "metadata": {},
     "output_type": "display_data"
    }
   ],
   "source": [
    "## A kinetikus energia\n",
    "T = sp.Rational(1,2)*m1*x1.diff(t)**2 + sp.Rational(1,2)*m2*x2.diff(t)**2 + sp.Rational(1,2)*m3*x3.diff(t)**2\n",
    "\n",
    "display(Math('T = {}'.format(sp.latex(T))))\n",
    "\n",
    "## Potenciális energia\n",
    "U = sp.Rational(1,2)*k1*(x2-x1)**2 + sp.Rational(1,2)*k2*(x3-x2)**2\n",
    "\n",
    "display(Math('U = {}'.format(sp.latex(U))))\n",
    "\n",
    "## Disszipatív energia most nincs!\n",
    "## Külső erő nincs!"
   ]
  },
  {
   "cell_type": "code",
   "execution_count": 4,
   "id": "sunrise-protocol",
   "metadata": {},
   "outputs": [
    {
     "data": {
      "text/latex": [
       "$\\displaystyle M = \\left[\\begin{matrix}m_{1} & 0 & 0\\\\0 & m_{2} & 0\\\\0 & 0 & m_{3}\\end{matrix}\\right]$"
      ],
      "text/plain": [
       "<IPython.core.display.Math object>"
      ]
     },
     "metadata": {},
     "output_type": "display_data"
    },
    {
     "data": {
      "text/latex": [
       "$\\displaystyle K = \\left[\\begin{matrix}k_{1} & - k_{1} & 0\\\\- k_{1} & k_{1} + k_{2} & - k_{2}\\\\0 & - k_{2} & k_{2}\\end{matrix}\\right]$"
      ],
      "text/plain": [
       "<IPython.core.display.Math object>"
      ]
     },
     "metadata": {},
     "output_type": "display_data"
    }
   ],
   "source": [
    "### Mátrix együtthatók legenerálása\n",
    "\"\"\" A mátrix együtthatók egyes elemeit a megfelelő általános koordináta szerinti\n",
    "parciális deriválással lehet előállítani. Ehhez először célszerű egy listába rendezni az általános koordinátákat.\n",
    "\"\"\"\n",
    "DoF = [x1, x2, x3]\n",
    "\n",
    "## Tömegmátrix (kinetikus energiából)\n",
    "# nulla mátrix létrehozása a tömegmátrixnak\n",
    "M = sp.zeros(3,3)\n",
    "# nullamátrix feltöltése a megfelelő parciális derivált értékekkel\n",
    "for i in range(3):\n",
    "    for j in range(3):\n",
    "        M[i,j] = T.diff((DoF[i]).diff(t)).diff((DoF[j]).diff(t))\n",
    "        \n",
    "display(Math('M = {}'.format(sp.latex(M))))\n",
    "\n",
    "## Merevségi mátrix (potenciális energiából)\n",
    "# nulla mátrix létrehozása a merevségi mátrixnak\n",
    "K = sp.zeros(3,3)\n",
    "# nullamátrix feltöltése a megfelelő parciális derivált értékekkel\n",
    "for i in range(3):\n",
    "    for j in range(3):\n",
    "        K[i,j] = U.diff(DoF[i]).diff(DoF[j])\n",
    "        \n",
    "display(Math('K = {}'.format(sp.latex(K))))\n",
    "\n",
    "# Külső erő és disszipatív energia most nincs, tehát az általános erővektor és a csillapítási mátrix is nulla elemű."
   ]
  },
  {
   "cell_type": "markdown",
   "id": "macro-shooting",
   "metadata": {},
   "source": [
    "Így a mozgásegyenlet\n",
    "$$\\mathbf{M}\\mathbf{\\ddot{q}}+\\mathbf{Kq} = \\mathbf{0},$$\n",
    "## 2. Feladat\n",
    "A mozgásegyenlet egy homogén lineáris közönséges differenciál egyenlet, melynek megoldásást exponenciális próbafüggvénnyel keressük\n",
    "\n",
    "$$\n",
    "\\mathbf{q}(t) = \\mathbf{A}e^{i\\omega_nt},\n",
    "$$\n",
    "\n",
    "ahol $\\mathbf{A}$ a lengésképvektor. Visszahelyettesítve a próbafüggvényt és annak deriváltját a mozgásegyenletbe adódik\n",
    "\n",
    "$$\n",
    "(-\\omega_n^2\\mathbf{M}+\\mathbf{K})\\mathbf{A}e^{i\\omega_nt} = \\mathbf{0}\n",
    "$$\n",
    "\n",
    "A fenti egyenletnek csak akkor van nem triviális megoldása, ha a következő teljesül\n",
    " \n",
    "$$\n",
    "\\det(-\\omega_n^2\\mathbf{M}+\\mathbf{K}) = 0.\n",
    "$$\n",
    "\n",
    "Ez az úgyenvezett frekvencia egyenlet, amiből a rendszer sajátkörfrekvenciái kaphatók. A lengéskép vektorokat úgy lehet megkapni, hogy a frekvencia egyenlet megolásait beírjuk az alábbi egyenletbe\n",
    "\n",
    "$$\n",
    "(-\\omega_{ni}^2\\mathbf{M}+\\mathbf{K})\\mathbf{A}_{i} = 0.\n",
    "$$\n",
    "\n",
    "Mivel ennek az egyenletnek végtelen megoldása van ezért az $\\mathbf{A}_{i}$ lengésképvektor egyik koordinátáját, szokás szerint az elsőt tetszőlegesen 1-nek választhatjuk."
   ]
  },
  {
   "cell_type": "code",
   "execution_count": 5,
   "id": "going-symbol",
   "metadata": {},
   "outputs": [
    {
     "data": {
      "text/latex": [
       "$\\displaystyle ω_{n,1} = 0$"
      ],
      "text/plain": [
       "<IPython.core.display.Math object>"
      ]
     },
     "metadata": {},
     "output_type": "display_data"
    },
    {
     "data": {
      "text/latex": [
       "$\\displaystyle ω_{n,2} = 10$"
      ],
      "text/plain": [
       "<IPython.core.display.Math object>"
      ]
     },
     "metadata": {},
     "output_type": "display_data"
    },
    {
     "data": {
      "text/latex": [
       "$\\displaystyle ω_{n,3} = 16.583$"
      ],
      "text/plain": [
       "<IPython.core.display.Math object>"
      ]
     },
     "metadata": {},
     "output_type": "display_data"
    }
   ],
   "source": [
    "## A frekvencia egynelet\n",
    "ω_n2, ω_n = sp.symbols(\"ω_n2, ω_n\")\n",
    "# oldjuk meg az egyenletet ω_n^2-re, majd vonjunk gyököt\n",
    "ω_n2_val = sp.solve((-ω_n2*M+K).subs(adatok).det())\n",
    "ω_n = [(sp.sqrt(i)) for i in ω_n2_val]\n",
    "\n",
    "\n",
    "display(Math('ω_{{n,1}} = {}'.format(sp.latex(ω_n[0]))))\n",
    "display(Math('ω_{{n,2}} = {}'.format(sp.latex(ω_n[1]))))\n",
    "display(Math('ω_{{n,3}} = {}'.format(sp.latex(ω_n[2].evalf(5)))))\n",
    "\n",
    "# [rad/s]"
   ]
  },
  {
   "cell_type": "code",
   "execution_count": 6,
   "id": "impossible-alignment",
   "metadata": {},
   "outputs": [
    {
     "data": {
      "text/latex": [
       "$\\displaystyle A_{1} = \\left[\\begin{matrix}1\\\\1\\\\1\\end{matrix}\\right]$"
      ],
      "text/plain": [
       "<IPython.core.display.Math object>"
      ]
     },
     "metadata": {},
     "output_type": "display_data"
    },
    {
     "data": {
      "text/latex": [
       "$\\displaystyle A_{2} = \\left[\\begin{matrix}1.0\\\\0\\\\-0.4\\end{matrix}\\right]$"
      ],
      "text/plain": [
       "<IPython.core.display.Math object>"
      ]
     },
     "metadata": {},
     "output_type": "display_data"
    },
    {
     "data": {
      "text/latex": [
       "$\\displaystyle A_{3} = \\left[\\begin{matrix}1.0\\\\-1.75\\\\1.0\\end{matrix}\\right]$"
      ],
      "text/plain": [
       "<IPython.core.display.Math object>"
      ]
     },
     "metadata": {},
     "output_type": "display_data"
    }
   ],
   "source": [
    "## lengéskép vektorok meghatározása\n",
    "# Hozzunk létre a lengésképvektoroknak egy üres listát, majd töltsük fel 3 lengésképvektorral, melyek első eleme 1\n",
    "A = []\n",
    "A2, A3 = sp.symbols(\"A2, A3\")\n",
    "for i in range(3):\n",
    "    A.append(sp.Matrix([[1],[A2],[A3]]))\n",
    "    \n",
    "    # oldjuk meg az egyenletet a lengésképekre és írjuk be a megoldásokat a lengésképvektorba (2. és 3. koordináta)\n",
    "    \"\"\"A solver most a két ismeretlen változóra számított megoldást egy dictionary-be rendezi,\n",
    "    melyben az egyese elemekre a hozzá rendelt névvel, jelen esetben a szimbólumok neveivel (A2, A3) lehet hivatkozni.\"\"\"\n",
    "    A[i][1] = sp.solve((((-ω_n[i]**2*M+K)*A[i]).subs(adatok)))[A2] \n",
    "    A[i][2] = sp.solve((((-ω_n[i]**2*M+K)*A[i]).subs(adatok)))[A3]\n",
    "\n",
    "display(Math('A_{{1}} = {}'.format(sp.latex(A[0]))))\n",
    "display(Math('A_{{2}} = {}'.format(sp.latex(A[1].evalf(4)))))\n",
    "display(Math('A_{{3}} = {}'.format(sp.latex(A[2].evalf(4)))))\n",
    "\n",
    "# [m]"
   ]
  },
  {
   "cell_type": "markdown",
   "id": "manufactured-attendance",
   "metadata": {},
   "source": [
    "Készítette: \n",
    "\n",
    "       Juhos-Kiss Álmos (Alkalmazott Mechanika Szakosztály) \n",
    "       Bodor Bálint (BME MM) kidolgozása és ábrái alapján.\n",
    "\n",
    "        Hibák, javaslatok:\n",
    "        amsz.bme@gmail.com\n",
    "        csuzdi02@gmail.com\n",
    "        almosjuhoskiss@gmail.com\n",
    "\n",
    "            2021.04.19\n",
    "        "
   ]
  }
 ],
 "metadata": {
  "kernelspec": {
   "display_name": "Python 3",
   "language": "python",
   "name": "python3"
  },
  "language_info": {
   "codemirror_mode": {
    "name": "ipython",
    "version": 3
   },
   "file_extension": ".py",
   "mimetype": "text/x-python",
   "name": "python",
   "nbconvert_exporter": "python",
   "pygments_lexer": "ipython3",
   "version": "3.8.5"
  }
 },
 "nbformat": 4,
 "nbformat_minor": 5
}
