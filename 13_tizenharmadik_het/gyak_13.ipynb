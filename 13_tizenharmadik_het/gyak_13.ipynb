{
 "cells": [
  {
   "cell_type": "markdown",
   "metadata": {},
   "source": [
    "# 13. Gyakorlat - Rezgésgerjesztő\n",
    "2021.05.05.\n",
    "\n",
    "## Feladat:"
   ]
  },
  {
   "cell_type": "markdown",
   "metadata": {},
   "source": [
    "<center><img src=\"gyak13_1.png\" width=500/></center>"
   ]
  },
  {
   "cell_type": "markdown",
   "metadata": {},
   "source": [
    "A mellékelt ábrán egy két szabadságfokú rendszer látható, melyet két merev test alkot: egy $m_1$ tömegű, $R$ sugarú tárcsa és egy $m_2$ tömegű test. A tárcsa vízszintes talajon gördül és a tömegközéppontja egy $k_1$ merevségű rugóval van a környezethez rögzítve. A másik test a gravitációs térben van és függőlegesen mozog egy súrlódásmentes megvezetés mentén, miközben a $k_2$ merevségű rugóhoz van rögzítve. A $k_2$ rugó másik vége egy idális kötélhez csatlakozik, ami egy ideális (súrlódásmentes/tömeg nélküli) csigán keresztül a tárcsa tömegközéppontjához van rögzítve. A kötél végig feszített állapotban van.\n",
    "\n",
    "### Adatok:\n",
    "|||\n",
    "|-------------------------------------|-------------------------------------|\n",
    "| $m_0$ = 0.1 kg                      | $R$ = 0.3 m                         |\n",
    "| $m_1$ = 1 kg                        | $e$ = 0.01 m                        |\n",
    "| $m_2$ = 3 kg                        | $M_0$ = 3 Nm                        |\n",
    "| $k_1$ = 100 N/m                     | $\\omega$ = 30 rad/s                 |\n",
    "| $k_2$ = 200 N/m                     | $\\varepsilon$ = $\\pi$/6 rad/s$^2$   |\n",
    "\n",
    "\n",
    "### Részfeladatok:\n",
    "\n",
    "1. Írja fel a lineáris mátrix együtthatós mozgásegyenletet!\n",
    "2. Határozza meg a mozgástörvény állandósult állapotbeli tagját!\n",
    "3. Mekkora a $k_2$ merevségű rugóban ébredő erő legnagyobb értéke az állandósult állapotban?\n",
    "4. Határozza meg a sajátkörfrekvenciákat és a hozzátartozó sajátvektorokat!\n",
    "\n",
    "## Megoldás:"
   ]
  },
  {
   "cell_type": "markdown",
   "metadata": {},
   "source": [
    "## 1. Feladat:\n",
    "Kis elmozdulások esetén a lineáris mozgásegyenlet mátrixegyütthatós alakja a következő egyenlettel adható meg\n",
    "\n",
    "$$\\mathbf{M}\\mathbf{\\ddot{q}}+\\mathbf{C\\dot{q}}+\\mathbf{Kq} = \\mathbf{Q^*},$$\n",
    "\n",
    "ahol $\\mathbf{q}$ az általános koordináták vektora, $\\mathbf{M}$ a tömegmátrix, $\\mathbf{C}$ a csillapítási mátrix, $\\mathbf{K}$ a merevségi mátrix, a $\\mathbf{Q^*}$ pedig az általános erők vektora. (Disszipatív energia nincs a rendszerben ezért a csillapítási mátrix zérus lesz.) \n",
    "Első lépésként az általános koordinátákat kell meghatározni. A rendszer 2 szabadsági fokú, tehát két általános koordinátát kell definiálni, melyből az egyik az ábra alapján legyen a merev test $y$ irányú elmozdulása a másik pedig a tárcsa $\\psi$ szögelfordulása:\n",
    "\n",
    "$$\n",
    "\\mathbf{q} = \\begin{bmatrix}\n",
    "    q_1\\\\\n",
    "    q_2\n",
    "\\end{bmatrix} = \\begin{bmatrix}\n",
    "    y\\\\\n",
    "    \\psi\n",
    "\\end{bmatrix}.\n",
    "$$\n",
    "\n"
   ]
  },
  {
   "cell_type": "code",
   "execution_count": 1,
   "metadata": {},
   "outputs": [],
   "source": [
    "import sympy as sp\n",
    "from IPython.display import display, Math\n",
    "\n",
    "sp.init_printing()"
   ]
  },
  {
   "cell_type": "code",
   "execution_count": 2,
   "metadata": {},
   "outputs": [],
   "source": [
    "## Függvények, szimbólumok definiálása\n",
    "\n",
    "m0, m1, m2, R, e, k1, k2, M0, ω, ε, g = sp.symbols(\"m0, m1, m2, R, e, k1, k2, M0, ω, ε, g\", real=True)\n",
    "\n",
    "# Készítsünk behelyettesítési listát az adatok alapján, SI-ben\n",
    "adatok = [(m0, 0.1), (m1, 1), (m2, 3), (R, 0.2),\n",
    "          (e, 0.01), (k1, 100), (k2, 200), (M0, 3),\n",
    "          (ω, 30), (ε, sp.pi/6), (g, 9.81)]  \n",
    "\n",
    "# általános koordináták\n",
    "t = sp.symbols(\"t\", real=True, positive=True)\n",
    "y = sp.Function('y')(t)\n",
    "ψ = sp.Function('ψ')(t)\n",
    "\n",
    "# gerjesztés\n",
    "M_t = M0*sp.cos(ω*t+ε)"
   ]
  },
  {
   "cell_type": "code",
   "execution_count": 3,
   "metadata": {},
   "outputs": [
    {
     "data": {
      "text/latex": [
       "$\\displaystyle T = \\frac{3 R^{2} m_{1} \\left(\\frac{d}{d t} ψ{\\left(t \\right)}\\right)^{2}}{4} + \\frac{e^{2} m_{0} ω^{2}}{2} + e m_{0} ω \\cos{\\left(t ω \\right)} \\frac{d}{d t} y{\\left(t \\right)} + \\frac{m_{0} \\left(\\frac{d}{d t} y{\\left(t \\right)}\\right)^{2}}{2} + \\frac{m_{2} \\left(\\frac{d}{d t} y{\\left(t \\right)}\\right)^{2}}{2}$"
      ],
      "text/plain": [
       "<IPython.core.display.Math object>"
      ]
     },
     "metadata": {},
     "output_type": "display_data"
    },
    {
     "data": {
      "text/latex": [
       "$\\displaystyle U = \\frac{R^{2} k_{1} ψ^{2}{\\left(t \\right)}}{2} + e g m_{0} \\sin{\\left(t ω \\right)} + \\frac{k_{2} \\left(R ψ{\\left(t \\right)} - y{\\left(t \\right)}\\right)^{2}}{2}$"
      ],
      "text/plain": [
       "<IPython.core.display.Math object>"
      ]
     },
     "metadata": {},
     "output_type": "display_data"
    }
   ],
   "source": [
    "### Kinetikus energia, potenciális energia, disszipatív energia\n",
    "\n",
    "### Először fejezzük ki a mennyiségeket az általános koordinátákkal\n",
    "# B pont sebessége\n",
    "vB = R*ψ.diff(t)\n",
    "\n",
    "# 1-es test szögsebessége\n",
    "ω1 = ψ.diff(t)\n",
    "\n",
    "# C pont sebessége\n",
    "vC = y.diff(t)\n",
    "\n",
    "# Tárcsa tehetetlenségi nyomatéka a B pontra\n",
    "ΘB = sp.Rational(1,2)*m1*R**2\n",
    "\n",
    "# m0 tömeg sebessége (helyvektor deriváltja)\n",
    "konst = sp.symbols(\"konst\") # konstans tag (deriválás után kiesik a kifejezésből)\n",
    "r0 = sp.Matrix([[e*sp.cos(ω*t)+konst],[y + e*sp.sin(ω*t)+konst]])\n",
    "v0 = r0.diff(t)\n",
    "\n",
    "# tárcsa x irányú elmozdulása\n",
    "x = R*ψ\n",
    "\n",
    "## Kinetikus energia\n",
    "T = (sp.Rational(1,2)*m1*vB**2 + sp.Rational(1,2)*ΘB*ω1**2 +\n",
    "     sp.Rational(1,2)*m2*vC**2 + sp.Rational(1,2)*m0*v0.dot(v0)).expand().trigsimp().simplify()\n",
    "\n",
    "display(Math('T = {}'.format(sp.latex(T))))\n",
    "\n",
    "## Potenciális energia\n",
    "U = sp.Rational(1,2)*k1*(x)**2 + sp.Rational(1,2)*k2*(x-y)**2+m0*g*e*sp.sin(ω*t)\n",
    "\n",
    "display(Math('U = {}'.format(sp.latex(U))))\n",
    "\n",
    "## Disszipatív energia most nincs!"
   ]
  },
  {
   "cell_type": "code",
   "execution_count": 4,
   "metadata": {},
   "outputs": [
    {
     "data": {
      "text/latex": [
       "$\\displaystyle \\left[\\begin{matrix}- e m_{0} ω^{2} \\sin{\\left(t ω \\right)} + m_{0} \\frac{d^{2}}{d t^{2}} y{\\left(t \\right)} + m_{2} \\frac{d^{2}}{d t^{2}} y{\\left(t \\right)}\\\\\\frac{3 R^{2} m_{1} \\frac{d^{2}}{d t^{2}} ψ{\\left(t \\right)}}{2}\\end{matrix}\\right]$"
      ],
      "text/plain": [
       "⎡                          2              2      ⎤\n",
       "⎢        2                d              d       ⎥\n",
       "⎢- e⋅m₀⋅ω ⋅sin(t⋅ω) + m₀⋅───(y(t)) + m₂⋅───(y(t))⎥\n",
       "⎢                          2              2      ⎥\n",
       "⎢                        dt             dt       ⎥\n",
       "⎢                                                ⎥\n",
       "⎢                         2                      ⎥\n",
       "⎢                  2     d                       ⎥\n",
       "⎢               3⋅R ⋅m₁⋅───(ψ(t))                ⎥\n",
       "⎢                         2                      ⎥\n",
       "⎢                       dt                       ⎥\n",
       "⎢               ─────────────────                ⎥\n",
       "⎣                       2                        ⎦"
      ]
     },
     "metadata": {},
     "output_type": "display_data"
    }
   ],
   "source": [
    "### Mátrix együtthatók legenerálása\n",
    "\"\"\" A tömegmátrix most nem számítható közvetlenül a kinetikus energiából,\n",
    "mert az excentrikus tag forgása egy álatlános erő tagot is eredményez,\n",
    "ami a parciális deriválásnál kiesne az egyenletből.\n",
    "Ilyen esetben a másodfajú Lagrange-egyenletet kell használni\n",
    "\"\"\"\n",
    "# Állítsuk elő a Lagrange-egyenletben szereplő deriváltakat\n",
    "# Ehhez rendezzük listába az általános koordinátákat\n",
    "q = [y, ψ]\n",
    "# Majd hozzunk létre egy 2 dimenziós nullvektort a 2 Lagrange egyenlet első két tagjának\n",
    "Mat = sp.zeros(2,1)\n",
    "for i in range(2):\n",
    "    Mat[i] = (T.diff((q[i]).diff(t))).diff(t)-T.diff(q[i])\n",
    "display(Mat)"
   ]
  },
  {
   "cell_type": "markdown",
   "metadata": {},
   "source": [
    "Ebből a kétdimenziós rendszerből már könnyen kifejezhető a tömegmátrix és az általános erővektor tagja is, mivel erre az kifejezésre az alábbi írható fel (Lagrange alapján)\n",
    "\n",
    "$$\n",
    "\\left[\\begin{matrix}- e m_{0} ω^{2} \\sin{\\left(t ω \\right)} + m_{0} \\frac{d^{2}}{d t^{2}} y{\\left(t \\right)} + m_{2} \\frac{d^{2}}{d t^{2}} y{\\left(t \\right)}\\\\\\frac{3 R^{2} m_{1} \\frac{d^{2}}{d t^{2}} ψ{\\left(t \\right)}}{2}\\end{matrix}\\right] = \\mathbf{M\\ddot{q}}-\\mathbf{Q}^{m_0}(t)\n",
    "$$\n",
    "\n",
    "Tehát a tömegmátrix az általános erővektor második időszerinti deriváltjának az együttható mátrixa, míg az excentrikus forgómozgásból származó általános erő tag az inhomogenitást okozó tag."
   ]
  },
  {
   "cell_type": "code",
   "execution_count": 5,
   "metadata": {},
   "outputs": [
    {
     "data": {
      "text/latex": [
       "$\\displaystyle Q^{m_0} = \\left[\\begin{matrix}e m_{0} ω^{2} \\sin{\\left(t ω \\right)}\\\\0\\end{matrix}\\right]$"
      ],
      "text/plain": [
       "<IPython.core.display.Math object>"
      ]
     },
     "metadata": {},
     "output_type": "display_data"
    },
    {
     "data": {
      "text/latex": [
       "$\\displaystyle M = \\left[\\begin{matrix}m_{0} + m_{2} & 0\\\\0 & \\frac{3 R^{2} m_{1}}{2}\\end{matrix}\\right]$"
      ],
      "text/plain": [
       "<IPython.core.display.Math object>"
      ]
     },
     "metadata": {},
     "output_type": "display_data"
    }
   ],
   "source": [
    "# nullmátrix létrehozása a tömegmátrixnak és az erővektornak\n",
    "M = sp.zeros(2)\n",
    "Q = sp.zeros(2,1)\n",
    "\n",
    "# általános koordináták második deriváltja\n",
    "ddq = sp.Matrix([y.diff(t,2), ψ.diff(t,2)])\n",
    "\n",
    "for i in range(2):\n",
    "    for j in range(2):\n",
    "        M[i,j] = Mat[i].expand().coeff(ddq[j])\n",
    "Q_m0 = (M*ddq).expand()-Mat.expand()\n",
    "\n",
    "display(Math('Q^{{m_0}} = {}'.format(sp.latex(Q_m0))))\n",
    "display(Math('M = {}'.format(sp.latex(M))))"
   ]
  },
  {
   "cell_type": "code",
   "execution_count": 6,
   "metadata": {},
   "outputs": [
    {
     "data": {
      "text/latex": [
       "$\\displaystyle K = \\left[\\begin{matrix}k_{2} & - R k_{2}\\\\- R k_{2} & R^{2} k_{1} + R^{2} k_{2}\\end{matrix}\\right]$"
      ],
      "text/plain": [
       "<IPython.core.display.Math object>"
      ]
     },
     "metadata": {},
     "output_type": "display_data"
    }
   ],
   "source": [
    "## Merevségi mátrix már közvetlenül kapható a potenciális energiából\n",
    "# nullmátrix létrehozása a merevségi mátrixnak\n",
    "K = sp.zeros(2,2)\n",
    "# nullmátrix feltöltése a megfelelő parciális derivált értékekkel\n",
    "for i in range(2):\n",
    "    for j in range(2):\n",
    "        K[i,j] = U.expand().diff(q[i]).diff(q[j])\n",
    "        \n",
    "display(Math('K = {}'.format(sp.latex(K))))"
   ]
  },
  {
   "cell_type": "code",
   "execution_count": 7,
   "metadata": {},
   "outputs": [
    {
     "data": {
      "text/latex": [
       "$\\displaystyle \\left[\\begin{matrix}0\\\\- M_{0} \\cos{\\left(t ω + ε \\right)}\\end{matrix}\\right]$"
      ],
      "text/plain": [
       "⎡       0        ⎤\n",
       "⎢                ⎥\n",
       "⎣-M₀⋅cos(t⋅ω + ε)⎦"
      ]
     },
     "execution_count": 7,
     "metadata": {},
     "output_type": "execute_result"
    }
   ],
   "source": [
    "### Az általános erővektor másik tagja a külső erők teljesítményéből számítható\n",
    "# Ebben a feladatban csak az M(t) nyomaték működik külső erőként, ennek teljesítménye pedig a következő:\n",
    "P = -M_t*ψ.diff(t)\n",
    "\n",
    "\"\"\"Ebből a külső erők vektora kapható ha vesszük az általános koordináták\n",
    "deriváltjainak az együtthatóit a megfelelő helyen\"\"\"\n",
    "Q_M = sp.zeros(2,1)\n",
    "for i in range(2):\n",
    "    Q_M[i] = P.expand().coeff(q[i].diff(t))\n",
    "Q_M"
   ]
  },
  {
   "cell_type": "code",
   "execution_count": 8,
   "metadata": {},
   "outputs": [
    {
     "data": {
      "text/latex": [
       "$\\displaystyle Q = \\left[\\begin{matrix}e m_{0} ω^{2} \\sin{\\left(t ω \\right)}\\\\- M_{0} \\cos{\\left(t ω + ε \\right)}\\end{matrix}\\right]$"
      ],
      "text/plain": [
       "<IPython.core.display.Math object>"
      ]
     },
     "metadata": {},
     "output_type": "display_data"
    },
    {
     "data": {
      "text/latex": [
       "$\\displaystyle Q = \\left[\\begin{matrix}e m_{0} ω^{2} \\sin{\\left(t ω \\right)}\\\\- M_{0} \\left(- \\sin{\\left(ε \\right)} \\sin{\\left(t ω \\right)} + \\cos{\\left(ε \\right)} \\cos{\\left(t ω \\right)}\\right)\\end{matrix}\\right]$"
      ],
      "text/plain": [
       "<IPython.core.display.Math object>"
      ]
     },
     "metadata": {},
     "output_type": "display_data"
    },
    {
     "data": {
      "text/latex": [
       "$\\displaystyle F_s = \\left[\\begin{matrix}e m_{0} ω^{2}\\\\M_{0} \\sin{\\left(ε \\right)}\\end{matrix}\\right]$"
      ],
      "text/plain": [
       "<IPython.core.display.Math object>"
      ]
     },
     "metadata": {},
     "output_type": "display_data"
    },
    {
     "data": {
      "text/latex": [
       "$\\displaystyle F_c = \\left[\\begin{matrix}0\\\\- M_{0} \\cos{\\left(ε \\right)}\\end{matrix}\\right]$"
      ],
      "text/plain": [
       "<IPython.core.display.Math object>"
      ]
     },
     "metadata": {},
     "output_type": "display_data"
    }
   ],
   "source": [
    "## Az általános erő a két erő tag összegéből kapható\n",
    "Q = Q_M+Q_m0\n",
    "display(Math('Q = {}'.format(sp.latex(Q))))\n",
    "\n",
    "\"\"\"Az általános erő szétszedhető sin-os és cos-os tagokra, \n",
    "(ez a sajátkörfrekvencia számolásnál egy fontos lépés lesz).\n",
    "Ehhez először használjuk a trig_expand() parancsot, hogy kibontsuk a cos-os tagot\"\"\"\n",
    "Q[1] = sp.expand_trig(Q[1])\n",
    "display(Math('Q = {}'.format(sp.latex(Q))))\n",
    "\n",
    "# Majd szedjuk ki a sin(tω) és cos(tω) együtthatóit\n",
    "Fc = sp.zeros(2,1)\n",
    "Fs = sp.zeros(2,1)\n",
    "for i in range(2):\n",
    "    Fc[i] = Q[i].expand().coeff(sp.cos(ω*t))\n",
    "    Fs[i] = Q[i].expand().coeff(sp.sin(ω*t))\n",
    "    \n",
    "display(Math('F_s = {}'.format(sp.latex(Fs))))\n",
    "display(Math('F_c = {}'.format(sp.latex(Fc))))"
   ]
  },
  {
   "cell_type": "markdown",
   "metadata": {},
   "source": [
    "Ezzel a mozgásegyenlet\n",
    "\n",
    "$$\\mathbf{M}\\mathbf{\\ddot{q}}+\\mathbf{Kq} = F_s\\sin(\\omega t)+F_c\\cos(\\omega t).$$\n",
    "\n",
    "## 2. Feladat\n",
    "A harmonikus gerjesztés miatt a partikuláris megoldást harmonikus próbafüggvény segaítségével keressük:\n",
    "\n",
    "$$\n",
    "\\mathbf{q}(t) = \\mathbf{L}\\cos(\\omega t)+\\mathbf{N}\\sin(\\omega t).\n",
    "$$\n",
    "\n",
    "Ennek a deriváltjai:\n",
    "\n",
    "$$\n",
    "\\mathbf{\\dot{q}}(t) = -\\omega\\mathbf{L}\\sin(\\omega t)+\\omega\\mathbf{N}\\cos(\\omega t),\n",
    "$$\n",
    "\n",
    "$$\n",
    "\\mathbf{\\ddot{q}}(t) = -\\omega^2\\mathbf{L}\\cos(\\omega t)-\\omega^2\\mathbf{N}\\sin(\\omega t).\n",
    "$$\n",
    "\n",
    "Visszaírva a próbafüggvényt és a deriváltjait a mozgásegyenletbe, majd a $\\sin(\\omega t)$ és $\\cos(\\omega t)$ együtthatókat összegyűjtve adódik az egyenletrendszer $\\mathbf{L}$-re és $\\mathbf{N}$ -re:\n",
    "\n",
    "$$\n",
    "\\begin{bmatrix}\n",
    "    -\\omega^2\\mathbf{M}+ \\mathbf{K} & \\mathbf{0}\\\\\n",
    "    \\mathbf{0} & -\\omega^2\\mathbf{M}+ \\mathbf{K}\n",
    "\\end{bmatrix} \\begin{bmatrix}\n",
    "    \\mathbf{L}\\\\\n",
    "    \\mathbf{N}\n",
    "\\end{bmatrix} = \\begin{bmatrix}\n",
    "    \\mathbf{F}_c\\\\\n",
    "    \\mathbf{F}_s\n",
    "\\end{bmatrix}.\n",
    "$$"
   ]
  },
  {
   "cell_type": "code",
   "execution_count": 9,
   "metadata": {},
   "outputs": [
    {
     "data": {
      "text/latex": [
       "$\\displaystyle \\mathbf{q}_p = \\left[\\begin{matrix}0.0002071 \\sin{\\left(30 t \\right)} - 0.0009696 \\cos{\\left(30 t \\right)}\\\\- 0.03591 \\sin{\\left(30 t \\right)} + 0.06278 \\cos{\\left(30 t \\right)}\\end{matrix}\\right]$"
      ],
      "text/plain": [
       "<IPython.core.display.Math object>"
      ]
     },
     "metadata": {},
     "output_type": "display_data"
    }
   ],
   "source": [
    "### Oldjuk meg az egyenletrendszert\n",
    "# Hozzunk létre szimbolikusan vektorokat a megoldásnak\n",
    "L1, L2, N1, N2 = sp.symbols(\"L1, L2, N1, N2\")\n",
    "L = sp.Matrix([[L1],[L2]])\n",
    "N = sp.Matrix([[N1],[N2]])\n",
    "\n",
    "# Megoldás\n",
    "L_sol = sp.solve(((-ω**2*M+K)*L-Fc).subs(adatok))\n",
    "N_sol = sp.solve(((-ω**2*M+K)*N-Fs).subs(adatok))\n",
    "L[0] = L_sol[L1].evalf(4)\n",
    "L[1] = L_sol[L2].evalf(4)\n",
    "N[0] = N_sol[N1].evalf(4)\n",
    "N[1] = N_sol[N2].evalf(4)\n",
    "\n",
    "# írjuk be a partikuláris megoldásba az eredményeket\n",
    "q_p = (L*sp.cos(ω*t)+N*sp.sin(ω*t)).expand().subs(adatok)\n",
    "display(Math('\\mathbf{{q}}_p = {}'.format(sp.latex(q_p))))"
   ]
  },
  {
   "cell_type": "markdown",
   "metadata": {},
   "source": [
    "## 3. Feladat"
   ]
  },
  {
   "cell_type": "code",
   "execution_count": 10,
   "metadata": {},
   "outputs": [
    {
     "data": {
      "text/latex": [
       "$\\displaystyle F_\\mathrm{k2,st} = 30.41\\ \\mathrm{N}$"
      ],
      "text/plain": [
       "<IPython.core.display.Math object>"
      ]
     },
     "metadata": {},
     "output_type": "display_data"
    },
    {
     "data": {
      "text/latex": [
       "$\\displaystyle F_\\mathrm{k2,din,max} = 3.08\\ \\mathrm{N}$"
      ],
      "text/plain": [
       "<IPython.core.display.Math object>"
      ]
     },
     "metadata": {},
     "output_type": "display_data"
    },
    {
     "data": {
      "text/latex": [
       "$\\displaystyle F_\\mathrm{k2,max} = 33.49\\ \\mathrm{N}$"
      ],
      "text/plain": [
       "<IPython.core.display.Math object>"
      ]
     },
     "metadata": {},
     "output_type": "display_data"
    }
   ],
   "source": [
    "## A rugerő maximumánál figyelembe kell venni a statikus és dinamikus részt is\n",
    "# Statikus deformációból adódó rész:\n",
    "Fk2_st =  ((m0+m2)*g).subs(adatok).evalf(4)\n",
    "display(Math('F_\\\\mathrm{{k2,st}} = {}\\\\ \\mathrm{{N}}'.format(sp.latex(Fk2_st))))\n",
    "\n",
    "# A dinamikus rész numerikusan könnyen számítható\n",
    "import numpy as np\n",
    "t_val = np.linspace(0,0.5,1000) # lista létrehozása a [0 ; 0,5] intervallum 1000 részre való bontásával \n",
    "Fk2_din = np.zeros(len(t_val)) # nulla lista létrehozása (ugyanannyi elemszámmal)\n",
    "# dinamikus tag számítása adott időpillanatban\n",
    "for i in range(len(t_val)):\n",
    "    Fk2_din[i] = (k2*(R*q_p[1]-q_p[0])).subs(adatok).subs(t,t_val[i]).evalf()\n",
    "Fk2_din_max = max(Fk2_din).round(2)\n",
    "\n",
    "# Dinamikus tag\n",
    "display(Math('F_\\\\mathrm{{k2,din,max}} = {}\\\\ \\mathrm{{N}}'.format(sp.latex(Fk2_din_max))))\n",
    "\n",
    "# Az erő maximuma\n",
    "Fk2_max = (Fk2_din_max + Fk2_st).evalf(4)\n",
    "display(Math('F_\\\\mathrm{{k2,max}} = {}\\\\ \\mathrm{{N}}'.format(sp.latex(Fk2_max))))"
   ]
  },
  {
   "cell_type": "markdown",
   "metadata": {},
   "source": [
    "## 4. Feladat"
   ]
  },
  {
   "cell_type": "code",
   "execution_count": 11,
   "metadata": {},
   "outputs": [
    {
     "data": {
      "text/latex": [
       "$\\displaystyle ω_{n,1} = 4.17\\ \\mathrm{rad/s}$"
      ],
      "text/plain": [
       "<IPython.core.display.Math object>"
      ]
     },
     "metadata": {},
     "output_type": "display_data"
    },
    {
     "data": {
      "text/latex": [
       "$\\displaystyle ω_{n,2} = 15.72\\ \\mathrm{rad/s}$"
      ],
      "text/plain": [
       "<IPython.core.display.Math object>"
      ]
     },
     "metadata": {},
     "output_type": "display_data"
    }
   ],
   "source": [
    "## A sajátfrekvenciák a frekvencia egyenletből kaphatók\n",
    "ω_n2, ω_n = sp.symbols(\"ω_n2, ω_n\")\n",
    "# oldjuk meg az egyenletet `ω_n^2`-re, majd vonjunk gyököt\n",
    "ω_n2_val = sp.solve((-ω_n2*M+K).subs(adatok).det())\n",
    "ω_n = [(sp.sqrt(i)) for i in ω_n2_val]\n",
    "\n",
    "\n",
    "display(Math('ω_{{n,1}} = {}\\\\ \\mathrm{{rad/s}}'.format(sp.latex(ω_n[0].evalf(3)))))\n",
    "display(Math('ω_{{n,2}} = {}\\\\ \\mathrm{{rad/s}}'.format(sp.latex(ω_n[1].evalf(4)))))"
   ]
  },
  {
   "cell_type": "code",
   "execution_count": 12,
   "metadata": {},
   "outputs": [
    {
     "data": {
      "text/latex": [
       "$\\displaystyle A_{1} = \\left[\\begin{matrix}1.0\\\\3.65\\end{matrix}\\right]\\begin{bmatrix}\\mathrm{m} \\\\ \\mathrm{rad}\\end{bmatrix} $"
      ],
      "text/plain": [
       "<IPython.core.display.Math object>"
      ]
     },
     "metadata": {},
     "output_type": "display_data"
    },
    {
     "data": {
      "text/latex": [
       "$\\displaystyle A_{2} = \\left[\\begin{matrix}1.0\\\\-14.15\\end{matrix}\\right]\\begin{bmatrix}\\mathrm{m} \\\\ \\mathrm{rad}\\end{bmatrix} $"
      ],
      "text/plain": [
       "<IPython.core.display.Math object>"
      ]
     },
     "metadata": {},
     "output_type": "display_data"
    }
   ],
   "source": [
    "## lengéskép vektorok meghatározása\n",
    "# Hozzunk létre a lengésképvektoroknak egy üres listát, majd töltsük fel 2 lengésképvektorral, melyek első elemme 1\n",
    "A = []\n",
    "A2 = sp.symbols(\"A2\")\n",
    "for i in range(2):\n",
    "    A.append(sp.Matrix([[1],[A2]]))\n",
    "    \n",
    "    # oldjuk meg az egyenletet a lengésképekre és írjuk be a megoldásokat a lengésképvektorba (2. koordináta)\n",
    "    A[i][1] = sp.solve((((-ω_n[i]**2*M+K)*A[i]).subs(adatok))[0])[0]\n",
    "\n",
    "display(Math('A_{{1}} = {}\\\\begin{{bmatrix}}\\\\mathrm{{m}} \\\\\\\\ \\\\mathrm{{rad}}\\\\end{{bmatrix}} '.format(sp.latex(A[0].evalf(3)))))\n",
    "display(Math('A_{{2}} = {}\\\\begin{{bmatrix}}\\\\mathrm{{m}} \\\\\\\\ \\\\mathrm{{rad}}\\\\end{{bmatrix}} '.format(sp.latex(A[1].evalf(4)))))"
   ]
  },
  {
   "cell_type": "markdown",
   "metadata": {},
   "source": [
    "Készítette: \n",
    "\n",
    "       Juhos-Kiss Álmos (Alkalmazott Mechanika Szakosztály) \n",
    "       Bachrathy Dániel (BME MM) kidolgozása alapján.\n",
    "\n",
    "        Hibák, javaslatok:\n",
    "        amsz.bme@gmail.com\n",
    "        csuzdi02@gmail.com\n",
    "        almosjuhoskiss@gmail.com\n",
    "\n",
    "            2021.05.05.\n",
    "        "
   ]
  }
 ],
 "metadata": {
  "kernelspec": {
   "display_name": "Python 3",
   "language": "python",
   "name": "python3"
  },
  "language_info": {
   "codemirror_mode": {
    "name": "ipython",
    "version": 3
   },
   "file_extension": ".py",
   "mimetype": "text/x-python",
   "name": "python",
   "nbconvert_exporter": "python",
   "pygments_lexer": "ipython3",
   "version": "3.8.5"
  }
 },
 "nbformat": 4,
 "nbformat_minor": 5
}
