{
 "cells": [
  {
   "cell_type": "markdown",
   "metadata": {},
   "source": [
    "# 12. Gyakorlat - 2 DoF gerjesztett rendszer\n",
    "2021.04.25.\n",
    "\n",
    "## Feladat:"
   ]
  },
  {
   "cell_type": "markdown",
   "metadata": {},
   "source": [
    "<center><img src=\"gyak12_1.png\" width=300/></center>"
   ]
  },
  {
   "cell_type": "markdown",
   "metadata": {},
   "source": [
    "A mellékelt ábrán egy 2 szabadságfokú mechanikai lengőrendszer látható, mely egy ingából és egy kocsiból áll. A kocsi egy kizárólag a vízszintes irányban elmozdulni képes merev testként van modellezve, melynek tömegét $m_1$ jelöli. Az inga, mely a B csukló körül képes csak elfordulni egy rúdként van modellezve: tömege $m_2$, hossza $l$. A rendszerre kétféle gerjesztő hatás hat: egy harmonikus erőgerjesztés $F(t) = F_0\\sin(\\omega t + \\varepsilon)$ az inga C pontjában, valamint egy harmonikus útgerjesztés $r(t) = r_0\\cos(\\omega t)$ egy, a kocsihoz kapcsolódó $k$ rugómerevségű rugón keresztül. A rendszer mozgását az $x_1$ és $x_2$ általános koordináta választása mellett vizsgáljuk. Itt $x_1$ a kocsi súlypontjának vízszintes irányú elmozdulása, míg $x_2$ az inga C pontjának kitérése (az ábra szerint). A rendszer a függőleges síkban helyezkedik el, rá a $\\mathbf{g}$ irányú gravitációs erő hat. Egyensúlyi helyzete az $x_1 = 0$, $x_2 = 0$ pozícióban található.\n",
    "### Adatok:\n",
    "|                              |                        |                        |\n",
    "|:-----------------------------|:-----------------------|:-----------------------|\n",
    "| $m_1$ = 2 kg                | $l$ = 0.5 m            | $\\omega$ = 20 rad/s            |\n",
    "| $m_2$ = 1 kg                | $F_0$ = 5 N           | $\\varepsilon$ = $\\pi$/3            |\n",
    "| $k$ = 100 N/m                | $r_0$ = 0.01 m           |             |\n",
    "\n",
    "### Részfeladatok:\n",
    "\n",
    "1. Határozza meg a modell mátrix együtthatós mozgásegyenletét az egyensúlyi helyzet körüli kis kitéréseket feltételezve!\n",
    "2. Adja meg a rendszer állandósult állapotbeli megoldását!\n",
    "3. Számítsa ki a rúd maximális elfordulását az állandósult állapotbeli megoldás során!\n",
    "\n",
    "## Megoldás:\n",
    "\n",
    "### 1. Feladat"
   ]
  },
  {
   "cell_type": "markdown",
   "metadata": {},
   "source": [
    "Mivel időfüggő kényszereink vannak (út- és erőgerjesztés), ezért közvetlenül nem tudjuk használni a mátrix együtthatós egyenlet meghatározása során használt összefüggéseinket. Itt a másodfajú Lagrange-egyenlethez kell fordulnunk."
   ]
  },
  {
   "cell_type": "code",
   "execution_count": 1,
   "metadata": {},
   "outputs": [],
   "source": [
    "# Először adjuk meg a kinetikus energiát\n",
    "import sympy as sp\n",
    "sp.init_printing()\n",
    "from IPython.display import Math\n",
    "\n",
    "t = sp.Symbol('t')\n",
    "x1 = sp.Function('x_1')(t)\n",
    "x2 = sp.Function('x_2')(t)\n",
    "φ = sp.Function('φ')(t) # ő nem lesz ált. koord. (de lehetne)\n",
    "\n",
    "q = sp.Matrix([[x1],[x2]]) # az ált. koord. vektora\n",
    "\n",
    "m1, m2, l, k, F0, r0, ω, ε, g = sp.symbols('m_1, m_2, l, k, F_0, r_0, ω, ε, g')\n",
    "\n",
    "r = r0*sp.cos(ω*t)\n",
    "F = F0*sp.sin(ω*t+ε)\n",
    "\n",
    "# Készítsünk behelyettesítési listát az adatok alapján, SI-ben:\n",
    "adatok = [(m1, 2), (m2, 1), (l, 0.5), (F0, 5), (ω, 20), \n",
    "          (ε, sp.pi/3), (k, 100), (r0, 0.01), (g, 9.81)]"
   ]
  },
  {
   "cell_type": "markdown",
   "metadata": {},
   "source": [
    "A **kinetikus energia** alakja a következő: \n",
    "$$T=\\underbrace{\\frac{1}{2} m_{1} v_{\\mathrm{B}}^{2}}_{T_{\\text {kocsi }}}+\\underbrace{\\frac{1}{2} m_{2} v_{\\mathrm{S}}^{2}+\\frac{1}{2} \\theta_{\\mathrm{S}} \\omega_{2}^{2}}_{T_{\\text {inga }}},$$\n",
    "\n",
    "ám nekünk ezt az általánosított koordinátákkal kell felírni!"
   ]
  },
  {
   "cell_type": "code",
   "execution_count": 2,
   "metadata": {},
   "outputs": [
    {
     "data": {
      "image/png": "[encoded data removed]",
      "text/latex": [
       "$\\displaystyle \\operatorname{x_{2}}{\\left(t \\right)} = l φ{\\left(t \\right)}$"
      ],
      "text/plain": [
       "x₂(t) = l⋅φ(t)"
      ]
     },
     "execution_count": 2,
     "metadata": {},
     "output_type": "execute_result"
    }
   ],
   "source": [
    "# Az egyszerűen megállapítható, hogy `v_B = x1.diff(t)`.\n",
    "# Szükséges még `v_S és ω_2`:\n",
    "\n",
    "ω2 = sp.symbols('ω_2')\n",
    "\n",
    "# kis kitérések esetén:\n",
    "x2_phi_eq = sp.Eq(x2,l*φ)\n",
    "x2_phi_eq"
   ]
  },
  {
   "cell_type": "code",
   "execution_count": 3,
   "metadata": {},
   "outputs": [
    {
     "data": {
      "image/png": "[encoded data removed]",
      "text/latex": [
       "$\\displaystyle φ{\\left(t \\right)} = \\frac{\\operatorname{x_{2}}{\\left(t \\right)}}{l}$"
      ],
      "text/plain": [
       "       x₂(t)\n",
       "φ(t) = ─────\n",
       "         l  "
      ]
     },
     "metadata": {},
     "output_type": "display_data"
    },
    {
     "data": {
      "image/png": "[encoded data removed]",
      "text/latex": [
       "$\\displaystyle ω_{2} = \\frac{\\frac{d}{d t} \\operatorname{x_{2}}{\\left(t \\right)}}{l}$"
      ],
      "text/plain": [
       "     d        \n",
       "     ──(x₂(t))\n",
       "     dt       \n",
       "ω₂ = ─────────\n",
       "         l    "
      ]
     },
     "metadata": {},
     "output_type": "display_data"
    }
   ],
   "source": [
    "# Kifejezve φ-t, és deriválva mindkét oldalt:\n",
    "φ_expr = sp.solve(x2_phi_eq,φ)[0]\n",
    "ω2_expr = φ_expr.diff(t)\n",
    "display(sp.Eq(φ,φ_expr))\n",
    "display(sp.Eq(ω2,ω2_expr))  # most azzal ne foglalkozzunk, hogy `ω_2`-nél nincs jelölve az időfüggés"
   ]
  },
  {
   "cell_type": "markdown",
   "metadata": {},
   "source": [
    "Sebességredukciós képet segítségével már számítható $\\mathbf{v}_\\mathrm{S}$ (ismerjük a rúd sebességállapotát):\n",
    "\n",
    "$$\\mathbf{v}_\\mathrm{S} = \\mathbf{v}_\\mathrm{B} + \\boldsymbol{\\omega}_2 \\times \\mathbf{r}_\\mathrm{BS}.$$\n",
    "\n"
   ]
  },
  {
   "cell_type": "code",
   "execution_count": 4,
   "metadata": {},
   "outputs": [],
   "source": [
    "vB_vect = sp.Matrix([[sp.diff(x1,t)],[0],[0]])\n",
    "ω2_vect = sp.Matrix([[0],[0],[ω2_expr]])\n",
    "rBS_vect = sp.Matrix([[l/2*sp.sin(φ_expr)],[-l/2*sp.cos(φ_expr)],[0]])\n",
    "vS_vect = vB_vect + ω2_vect.cross(rBS_vect)"
   ]
  },
  {
   "cell_type": "code",
   "execution_count": 5,
   "metadata": {},
   "outputs": [
    {
     "data": {
      "text/latex": [
       "$\\displaystyle \\mathbf{v}_\\mathrm{S} = \\left[\\begin{matrix}\\frac{\\cos{\\left(\\frac{\\operatorname{x_{2}}{\\left(t \\right)}}{l} \\right)} \\frac{d}{d t} \\operatorname{x_{2}}{\\left(t \\right)}}{2} + \\frac{d}{d t} \\operatorname{x_{1}}{\\left(t \\right)}\\\\\\frac{\\sin{\\left(\\frac{\\operatorname{x_{2}}{\\left(t \\right)}}{l} \\right)} \\frac{d}{d t} \\operatorname{x_{2}}{\\left(t \\right)}}{2}\\\\0\\end{matrix}\\right]$"
      ],
      "text/plain": [
       "<IPython.core.display.Math object>"
      ]
     },
     "metadata": {},
     "output_type": "display_data"
    }
   ],
   "source": [
    "# kifejezve az általános koordinátákkal\n",
    "display(Math('\\mathbf{{v}}_\\mathrm{{S}} = {}'.format(sp.latex(vS_vect)))) "
   ]
  },
  {
   "cell_type": "code",
   "execution_count": 6,
   "metadata": {},
   "outputs": [],
   "source": [
    "# a kinetikus energiához még számoljuk ki a rúd tehetetlenségi nyomatékát:\n",
    "ΘS = sp.Rational(1,12)*m2*l**2\n",
    "\n",
    "# Tipp: figyeljünk arra, hogy a theták ne tévesszenek meg minket:\n",
    "# `θ` -> `\\theta + tab` (aka. kis theta)\n",
    "# `Θ` -> `\\Theta + tab` (aka. nagy theta)\n",
    "# Ember legyen a talpán, aki debugolásnál meglátja a különbséget."
   ]
  },
  {
   "cell_type": "code",
   "execution_count": 7,
   "metadata": {},
   "outputs": [],
   "source": [
    "T = (sp.Rational(1,2)*m1*vB_vect.dot(vB_vect)\n",
    "     + sp.Rational(1,2)*m2*vS_vect.dot(vS_vect) \n",
    "     + sp.Rational(1,2)*ΘS*ω2_vect.dot(ω2_vect))"
   ]
  },
  {
   "cell_type": "code",
   "execution_count": 8,
   "metadata": {},
   "outputs": [
    {
     "data": {
      "text/latex": [
       "$\\displaystyle \\mathbf{M} = \\left[\\begin{matrix}m_{1} + m_{2} & \\frac{m_{2}}{2}\\\\\\frac{m_{2}}{2} & \\frac{m_{2}}{3}\\end{matrix}\\right]$"
      ],
      "text/plain": [
       "<IPython.core.display.Math object>"
      ]
     },
     "metadata": {},
     "output_type": "display_data"
    }
   ],
   "source": [
    "\"\"\" Mint feljebb említettem, a mátrix együtthatós egyenletnél használatos\n",
    "együttható mátrixok kiszámítási formuláit körültekintően kell használni,\n",
    "ugyanis időfüggő gerjesztések hatnak a rendszerre. A tömegmátrix számításánál\n",
    "azonban most ez megengedett, ugyanis a kinetikus energiában nincs explicit\n",
    "időfüggő tag (pl. nincs kiegy. forgórész általi gerjesztés).\"\"\"\n",
    "\n",
    "# Elsőnek parciálisan deriváljuk a kinetikus energiát a 2 ált. sebesség szerint,\n",
    "# majd helyettesítsünk 0-t a helyükre.\n",
    "# Szintax: egymásba ágyazott 2 db `list comprehension`. Olyan, mint 2 egymásba\n",
    "# ágyazott `for` ciklus. \n",
    "M_array = [[T.expand().diff(q1.diff()).diff(q2.diff()).simplify().subs([(q1,0),(q2,0)]) for q1 in q] for q2 in q]\n",
    "M = sp.Matrix(M_array)\n",
    "display(Math('\\mathbf{{M}} = {}'.format(sp.latex(M))))"
   ]
  },
  {
   "cell_type": "code",
   "execution_count": 9,
   "metadata": {},
   "outputs": [
    {
     "data": {
      "text/latex": [
       "$\\displaystyle \\begin{bmatrix}\\frac{\\partial{U}}{\\partial{x_1}} \\\\ \\frac{\\partial{U}}{\\partial{x_2}}  \\end{bmatrix}= \\left[\\begin{matrix}- k r_{0} \\cos{\\left(t ω \\right)} + k \\operatorname{x_{1}}{\\left(t \\right)}\\\\\\frac{g m_{2} \\sin{\\left(\\frac{\\operatorname{x_{2}}{\\left(t \\right)}}{l} \\right)}}{2}\\end{matrix}\\right]$"
      ],
      "text/plain": [
       "<IPython.core.display.Math object>"
      ]
     },
     "metadata": {},
     "output_type": "display_data"
    }
   ],
   "source": [
    "## Potenciális energia\n",
    "\n",
    "# Itt a Lagrange-egyenlet formuláit kell használnunk, mert van explicit időfüggés\n",
    "U = -m2*g*l/2*sp.cos(φ_expr) + sp.Rational(1,2)*k*(x1-r)**2\n",
    "\n",
    "U_d_q = sp.Matrix([U.diff(alt_koord).expand() for alt_koord in q]) # parc. derivált vektor\n",
    "display(Math('\\\\begin{{bmatrix}}\\\\frac{{\\\\partial{{U}}}}{{\\\\partial{{x_1}}}} \\\\\\\\ \\\\frac{{\\\\partial{{U}}}}{{\\\\partial{{x_2}}}}  \\\\end{{bmatrix}}= {}'\n",
    "             .format(sp.latex(U_d_q))))\n",
    "\n",
    "# A hosszadalmas LaTeX kóddal ne foglalkozzunk most"
   ]
  },
  {
   "cell_type": "code",
   "execution_count": 10,
   "metadata": {},
   "outputs": [
    {
     "data": {
      "image/png": "[encoded data removed]",
      "text/latex": [
       "$\\displaystyle \\left( k \\operatorname{x_{1}}{\\left(t \\right)}, \\  - k r_{0} \\cos{\\left(t ω \\right)}\\right)$"
      ],
      "text/plain": [
       "(k⋅x₁(t), -k⋅r₀⋅cos(t⋅ω))"
      ]
     },
     "metadata": {},
     "output_type": "display_data"
    }
   ],
   "source": [
    "\"\"\" Ami itt fontos nekünk, az a gerjesztést tartalmazó tag. Ez ugyanis\n",
    "kiesne akkor, ha a márix együtthatós egyenlet formuláit használnánk.\n",
    "\"\"\"\n",
    "gerj = U_d_q[0].as_two_terms() \n",
    "# két részre szedjük az összeget\n",
    "display(gerj) # így egy listában kapjuk vissza az összeg két tagját"
   ]
  },
  {
   "cell_type": "code",
   "execution_count": 11,
   "metadata": {},
   "outputs": [
    {
     "data": {
      "text/latex": [
       "$\\displaystyle \\mathbf{Q}^r(t) = \\left[\\begin{matrix}k r_{0} \\cos{\\left(t ω \\right)}\\\\0\\end{matrix}\\right]$"
      ],
      "text/plain": [
       "<IPython.core.display.Math object>"
      ]
     },
     "metadata": {},
     "output_type": "display_data"
    },
    {
     "data": {
      "text/latex": [
       "$\\displaystyle \\mathbf{K} = \\left[\\begin{matrix}k & 0\\\\0 & \\frac{g m_{2}}{2 l}\\end{matrix}\\right]$"
      ],
      "text/plain": [
       "<IPython.core.display.Math object>"
      ]
     },
     "metadata": {},
     "output_type": "display_data"
    }
   ],
   "source": [
    "# A gerjesztést tartalmazó második tag mínusz egyszerese \n",
    "# megy az általános Q erők vektorába\n",
    "Qr = sp.Matrix([[-gerj[1]],[0]])\n",
    "display(Math('\\mathbf{{Q}}^r(t) = {}'.format(sp.latex(Qr))))\n",
    "\n",
    "# Most, hogy 'elmentettük' a gerjesztő tagot, nyugodtan számolhatunk a kényelmes\n",
    "# mátrix együthatós formulával (ahol kiesik ez a tag):\n",
    "\n",
    "K_array = [[U.expand().diff(q1).diff(q2).simplify().subs([(q1,0),(q2,0)]) for q1 in q] for q2 in q]\n",
    "K = sp.Matrix(K_array)\n",
    "\n",
    "display(Math('\\mathbf{{K}} = {}'.format(sp.latex(K))))"
   ]
  },
  {
   "cell_type": "code",
   "execution_count": 12,
   "metadata": {},
   "outputs": [
    {
     "data": {
      "text/latex": [
       "$\\displaystyle P_\\mathrm{F} = F_{0} \\left(\\frac{d}{d t} \\operatorname{x_{1}}{\\left(t \\right)} + \\frac{d}{d t} \\operatorname{x_{2}}{\\left(t \\right)}\\right) \\sin{\\left(t ω + ε \\right)}$"
      ],
      "text/plain": [
       "<IPython.core.display.Math object>"
      ]
     },
     "metadata": {},
     "output_type": "display_data"
    }
   ],
   "source": [
    "## Az általános erő vektora\n",
    "\n",
    "\"\"\" Q egy részét már kiszámoltuk (Q_r). A másik tagot az erőgerjesztésből számíthatjuk (Q_F).\n",
    "Írjuk fel ehhez a gerjesztő erő teljesítményét:\"\"\"\n",
    "\n",
    "vC_y = sp.Symbol('vC_y') # igazából úgy is kiesik, de kell oda valami\n",
    "\n",
    "vC_vect = sp.Matrix([[q[0].diff(t) + q[1].diff(t)],[vC_y]]) # `x1.diff(t)` mint szállító sebesség van jelen\n",
    "P_F = sp.Matrix([[F],[0]]).dot(vC_vect)\n",
    "display(Math('P_\\mathrm{{F}} = {}'.format(sp.latex(P_F))))"
   ]
  },
  {
   "cell_type": "code",
   "execution_count": 13,
   "metadata": {},
   "outputs": [
    {
     "data": {
      "text/latex": [
       "$\\displaystyle \\mathbf{Q}(t) = \\left[\\begin{matrix}F_{0} \\sin{\\left(t ω + ε \\right)} + k r_{0} \\cos{\\left(t ω \\right)}\\\\F_{0} \\sin{\\left(t ω + ε \\right)}\\end{matrix}\\right]$"
      ],
      "text/plain": [
       "<IPython.core.display.Math object>"
      ]
     },
     "metadata": {},
     "output_type": "display_data"
    }
   ],
   "source": [
    "# Ki kell fejezni a teljesítményt az általános sebességekkel is, és ez alapján\n",
    "# lehet meghatározni az általános erők vektorát. Most egyszerű dolgunk van:\n",
    "QF = sp.Matrix([P_F.expand().coeff(alt_coord.diff(t)) for alt_coord in q])\n",
    "QF\n",
    "\n",
    "Q = QF + sp.Matrix(Qr)\n",
    "display(Math('\\mathbf{{Q}}(t) = {}'.format(sp.latex(Q))))"
   ]
  },
  {
   "cell_type": "markdown",
   "metadata": {},
   "source": [
    "Mivel az állandósult megoldásra vagyunk kíváncsiak, ezért az általános erő vektorát hozzuk az alábbi alakra:\n",
    "\n",
    "$$\\mathbf{Q}(t)=\\mathbf{F}_{\\mathrm{S}} \\sin (\\omega t)+\\mathbf{F}_{\\mathrm{C}} \\cos (\\omega t).$$"
   ]
  },
  {
   "cell_type": "code",
   "execution_count": 14,
   "metadata": {},
   "outputs": [
    {
     "data": {
      "text/latex": [
       "$\\displaystyle \\left[\\begin{matrix}F_{0} \\sin{\\left(ε \\right)} \\cos{\\left(t ω \\right)} + F_{0} \\sin{\\left(t ω \\right)} \\cos{\\left(ε \\right)} + k r_{0} \\cos{\\left(t ω \\right)}\\\\F_{0} \\sin{\\left(ε \\right)} \\cos{\\left(t ω \\right)} + F_{0} \\sin{\\left(t ω \\right)} \\cos{\\left(ε \\right)}\\end{matrix}\\right]$"
      ],
      "text/plain": [
       "⎡F₀⋅sin(ε)⋅cos(t⋅ω) + F₀⋅sin(t⋅ω)⋅cos(ε) + k⋅r₀⋅cos(t⋅ω)⎤\n",
       "⎢                                                       ⎥\n",
       "⎣        F₀⋅sin(ε)⋅cos(t⋅ω) + F₀⋅sin(t⋅ω)⋅cos(ε)        ⎦"
      ]
     },
     "metadata": {},
     "output_type": "display_data"
    },
    {
     "data": {
      "text/latex": [
       "$\\displaystyle \\mathbf{F}_\\mathrm{S} = \\left[\\begin{matrix}F_{0} \\cos{\\left(ε \\right)}\\\\F_{0} \\cos{\\left(ε \\right)}\\end{matrix}\\right]$"
      ],
      "text/plain": [
       "<IPython.core.display.Math object>"
      ]
     },
     "metadata": {},
     "output_type": "display_data"
    },
    {
     "data": {
      "text/latex": [
       "$\\displaystyle \\mathbf{F}_\\mathrm{C} = \\left[\\begin{matrix}F_{0} \\sin{\\left(ε \\right)} + k r_{0}\\\\F_{0} \\sin{\\left(ε \\right)}\\end{matrix}\\right]$"
      ],
      "text/plain": [
       "<IPython.core.display.Math object>"
      ]
     },
     "metadata": {},
     "output_type": "display_data"
    }
   ],
   "source": [
    "# az `applyfunc` függvénnyel tudunk egy mátrixnak minden elemére \n",
    "# alkalmazni egy adott függvényt (pl. `sp.simplify`).\n",
    "Q_expand = Q.applyfunc(sp.expand_trig).expand()\n",
    "display(Q_expand)\n",
    "\n",
    "Fs = sp.Matrix([elem.coeff(sp.sin(ω*t)) for elem in Q_expand])\n",
    "Fc = sp.Matrix([elem.coeff(sp.cos(ω*t)) for elem in Q_expand])\n",
    "display(Math('\\mathbf{{F}}_\\mathrm{{S}} = {}'.format(sp.latex(Fs))))\n",
    "display(Math('\\mathbf{{F}}_\\mathrm{{C}} = {}'.format(sp.latex(Fc))))"
   ]
  },
  {
   "cell_type": "code",
   "execution_count": 15,
   "metadata": {},
   "outputs": [
    {
     "data": {
      "text/latex": [
       "$\\displaystyle \\left[\\begin{matrix}k \\operatorname{x_{1}}{\\left(t \\right)} + \\frac{m_{2} \\frac{d^{2}}{d t^{2}} \\operatorname{x_{2}}{\\left(t \\right)}}{2} + \\left(m_{1} + m_{2}\\right) \\frac{d^{2}}{d t^{2}} \\operatorname{x_{1}}{\\left(t \\right)}\\\\\\frac{g m_{2} \\operatorname{x_{2}}{\\left(t \\right)}}{2 l} + \\frac{m_{2} \\frac{d^{2}}{d t^{2}} \\operatorname{x_{1}}{\\left(t \\right)}}{2} + \\frac{m_{2} \\frac{d^{2}}{d t^{2}} \\operatorname{x_{2}}{\\left(t \\right)}}{3}\\end{matrix}\\right] = \\left[\\begin{matrix}F_{0} \\cos{\\left(ε \\right)} \\cos{\\left(t ω \\right)} + \\left(F_{0} \\sin{\\left(ε \\right)} + k r_{0}\\right) \\sin{\\left(t ω \\right)}\\\\F_{0} \\sin{\\left(ε \\right)} \\sin{\\left(t ω \\right)} + F_{0} \\cos{\\left(ε \\right)} \\cos{\\left(t ω \\right)}\\end{matrix}\\right]$"
      ],
      "text/plain": [
       "⎡               2                              ⎤                              \n",
       "⎢              d                               ⎥                              \n",
       "⎢          m₂⋅───(x₂(t))                       ⎥                              \n",
       "⎢               2                      2       ⎥                              \n",
       "⎢             dt                      d        ⎥                              \n",
       "⎢k⋅x₁(t) + ───────────── + (m₁ + m₂)⋅───(x₁(t))⎥                              \n",
       "⎢                2                     2       ⎥                              \n",
       "⎢                                    dt        ⎥   ⎡F₀⋅cos(ε)⋅cos(t⋅ω) + (F₀⋅s\n",
       "⎢                                              ⎥ = ⎢                          \n",
       "⎢                    2               2         ⎥   ⎣    F₀⋅sin(ε)⋅sin(t⋅ω) + F\n",
       "⎢                   d               d          ⎥                              \n",
       "⎢               m₂⋅───(x₁(t))   m₂⋅───(x₂(t))  ⎥                              \n",
       "⎢                    2               2         ⎥                              \n",
       "⎢  g⋅m₂⋅x₂(t)      dt              dt          ⎥                              \n",
       "⎢  ────────── + ───────────── + ─────────────  ⎥                              \n",
       "⎣     2⋅l             2               3        ⎦                              \n",
       "\n",
       "                       \n",
       "                       \n",
       "                       \n",
       "                       \n",
       "                       \n",
       "                       \n",
       "                       \n",
       "in(ε) + k⋅r₀)⋅sin(t⋅ω)⎤\n",
       "                      ⎥\n",
       "₀⋅cos(ε)⋅cos(t⋅ω)     ⎦\n",
       "                       \n",
       "                       \n",
       "                       \n",
       "                       \n",
       "                       \n",
       "                       "
      ]
     },
     "execution_count": 15,
     "metadata": {},
     "output_type": "execute_result"
    }
   ],
   "source": [
    "# Végül a mátrix együthatós mozgásegyenlet \n",
    "eom = sp.Eq(M*q.diff(t,2) + K*q, Fs*sp.cos(ω*t) + Fc*sp.sin(ω*t))\n",
    "eom "
   ]
  },
  {
   "cell_type": "code",
   "execution_count": 16,
   "metadata": {},
   "outputs": [
    {
     "data": {
      "text/latex": [
       "$\\displaystyle \\left[\\begin{matrix}k & 0\\\\0 & \\frac{g m_{2}}{2 l}\\end{matrix}\\right] \\left[\\begin{matrix}\\operatorname{x_{1}}{\\left(t \\right)}\\\\\\operatorname{x_{2}}{\\left(t \\right)}\\end{matrix}\\right] + \\left[\\begin{matrix}m_{1} + m_{2} & \\frac{m_{2}}{2}\\\\\\frac{m_{2}}{2} & \\frac{m_{2}}{3}\\end{matrix}\\right] \\left[\\begin{matrix}\\frac{d^{2}}{d t^{2}} \\operatorname{x_{1}}{\\left(t \\right)}\\\\\\frac{d^{2}}{d t^{2}} \\operatorname{x_{2}}{\\left(t \\right)}\\end{matrix}\\right] = \\left[\\begin{matrix}F_{0} \\cos{\\left(ε \\right)}\\\\F_{0} \\cos{\\left(ε \\right)}\\end{matrix}\\right] \\sin{\\left(t ω \\right)} + \\left[\\begin{matrix}F_{0} \\sin{\\left(ε \\right)} + k r_{0}\\\\F_{0} \\sin{\\left(ε \\right)}\\end{matrix}\\right] \\cos{\\left(t ω \\right)}$"
      ],
      "text/plain": [
       "              ⎡  2       ⎤                                                    \n",
       "              ⎢ d        ⎥                                                    \n",
       "⎡         m₂⎤ ⎢───(x₁(t))⎥                                                    \n",
       "⎢m₁ + m₂  ──⎥ ⎢  2       ⎥   ⎡k   0  ⎤                                        \n",
       "⎢         2 ⎥ ⎢dt        ⎥   ⎢       ⎥ ⎡x₁(t)⎤   ⎡F₀⋅sin(ε) + k⋅r₀⎤           \n",
       "⎢           ⎥⋅⎢          ⎥ + ⎢   g⋅m₂⎥⋅⎢     ⎥ = ⎢                ⎥⋅cos(t⋅ω) +\n",
       "⎢  m₂     m₂⎥ ⎢  2       ⎥   ⎢0  ────⎥ ⎣x₂(t)⎦   ⎣   F₀⋅sin(ε)    ⎦           \n",
       "⎢  ──     ──⎥ ⎢ d        ⎥   ⎣   2⋅l ⎦                                        \n",
       "⎣  2      3 ⎦ ⎢───(x₂(t))⎥                                                    \n",
       "              ⎢  2       ⎥                                                    \n",
       "              ⎣dt        ⎦                                                    \n",
       "\n",
       "                     \n",
       "                     \n",
       "                     \n",
       "                     \n",
       " ⎡F₀⋅cos(ε)⎤         \n",
       " ⎢         ⎥⋅sin(t⋅ω)\n",
       " ⎣F₀⋅cos(ε)⎦         \n",
       "                     \n",
       "                     \n",
       "                     \n",
       "                     "
      ]
     },
     "execution_count": 16,
     "metadata": {},
     "output_type": "execute_result"
    }
   ],
   "source": [
    "# Az olvashatóságot rontja, hogy a `sympy` automatikusan elvégzi az \n",
    "# összeadásokat és a szorzásokat. Ezt ki tudjuk küszöbölni, ha \n",
    "# `sp.MatAdd(tag_1, tag_2, ... )` és `sp.MatMul(tenyezo_1, tenyezo_2, ...)`\n",
    "# függvényeket használunk.\n",
    "\n",
    "sp.Eq(sp.MatAdd(sp.MatMul(M,q.diff(t,2)),sp.MatMul(K,q)), \n",
    "      sp.MatAdd(sp.MatMul(Fc,sp.cos(ω*t)),sp.MatMul(Fs,sp.sin(ω*t))))"
   ]
  },
  {
   "cell_type": "markdown",
   "metadata": {},
   "source": [
    "### 2. Feladat"
   ]
  },
  {
   "cell_type": "markdown",
   "metadata": {},
   "source": [
    "A partikuláris (állandósult) megoldást keressük\n",
    "\n",
    "$$\\mathbf{q}_{\\mathrm{p}}=\\mathbf{L} \\cos (\\omega t)+\\mathbf{N} \\sin (\\omega t)$$\n",
    "\n",
    "alakban."
   ]
  },
  {
   "cell_type": "code",
   "execution_count": 17,
   "metadata": {},
   "outputs": [],
   "source": [
    "L1, L2, N1, N2 = sp.symbols('L_1, L_2, N_1, N_2')\n",
    "L = sp.Matrix([[L1],[L2]])\n",
    "N = sp.Matrix([[N1],[N2]])\n",
    "\n",
    "qp = L*sp.cos(ω*t) + N*sp.sin(ω*t)"
   ]
  },
  {
   "cell_type": "code",
   "execution_count": 18,
   "metadata": {},
   "outputs": [
    {
     "data": {
      "text/latex": [
       "$\\displaystyle \\left[\\begin{matrix}k \\left(L_{1} \\cos{\\left(t ω \\right)} + N_{1} \\sin{\\left(t ω \\right)}\\right) + \\frac{m_{2} \\frac{\\partial^{2}}{\\partial t^{2}} \\left(L_{2} \\cos{\\left(t ω \\right)} + N_{2} \\sin{\\left(t ω \\right)}\\right)}{2} + \\left(m_{1} + m_{2}\\right) \\frac{\\partial^{2}}{\\partial t^{2}} \\left(L_{1} \\cos{\\left(t ω \\right)} + N_{1} \\sin{\\left(t ω \\right)}\\right)\\\\\\frac{g m_{2} \\left(L_{2} \\cos{\\left(t ω \\right)} + N_{2} \\sin{\\left(t ω \\right)}\\right)}{2 l} + \\frac{m_{2} \\frac{\\partial^{2}}{\\partial t^{2}} \\left(L_{1} \\cos{\\left(t ω \\right)} + N_{1} \\sin{\\left(t ω \\right)}\\right)}{2} + \\frac{m_{2} \\frac{\\partial^{2}}{\\partial t^{2}} \\left(L_{2} \\cos{\\left(t ω \\right)} + N_{2} \\sin{\\left(t ω \\right)}\\right)}{3}\\end{matrix}\\right]$"
      ],
      "text/plain": [
       "⎡                                     2                                       \n",
       "⎢                                    ∂                                        \n",
       "⎢                                m₂⋅───(L₂⋅cos(t⋅ω) + N₂⋅sin(t⋅ω))            \n",
       "⎢                                     2                                       \n",
       "⎢                                   ∂t                                        \n",
       "⎢k⋅(L₁⋅cos(t⋅ω) + N₁⋅sin(t⋅ω)) + ───────────────────────────────── + (m₁ + m₂)\n",
       "⎢                                                2                            \n",
       "⎢                                                                             \n",
       "⎢                                                                             \n",
       "⎢                                          2                                  \n",
       "⎢                                         ∂                                   \n",
       "⎢                                     m₂⋅───(L₁⋅cos(t⋅ω) + N₁⋅sin(t⋅ω))   m₂⋅─\n",
       "⎢                                          2                                  \n",
       "⎢  g⋅m₂⋅(L₂⋅cos(t⋅ω) + N₂⋅sin(t⋅ω))      ∂t                                  ∂\n",
       "⎢  ──────────────────────────────── + ───────────────────────────────── + ────\n",
       "⎣                2⋅l                                  2                       \n",
       "\n",
       "                               ⎤\n",
       "                               ⎥\n",
       "                               ⎥\n",
       "   2                           ⎥\n",
       "  ∂                            ⎥\n",
       "⋅───(L₁⋅cos(t⋅ω) + N₁⋅sin(t⋅ω))⎥\n",
       "   2                           ⎥\n",
       " ∂t                            ⎥\n",
       "                               ⎥\n",
       " 2                             ⎥\n",
       "∂                              ⎥\n",
       "──(L₂⋅cos(t⋅ω) + N₂⋅sin(t⋅ω))  ⎥\n",
       " 2                             ⎥\n",
       "t                              ⎥\n",
       "─────────────────────────────  ⎥\n",
       "            3                  ⎦"
      ]
     },
     "execution_count": 18,
     "metadata": {},
     "output_type": "execute_result"
    }
   ],
   "source": [
    "# Ennek deriváltjait helyettesítsük be a mozgásegyenletbe\n",
    "eom.lhs.subs([(x1,qp[0]),(x2,qp[1])])"
   ]
  },
  {
   "cell_type": "code",
   "execution_count": 19,
   "metadata": {},
   "outputs": [
    {
     "data": {
      "text/latex": [
       "$\\displaystyle \\left[\\begin{matrix}L_{1} k \\cos{\\left(t ω \\right)} - L_{1} m_{1} ω^{2} \\cos{\\left(t ω \\right)} - L_{1} m_{2} ω^{2} \\cos{\\left(t ω \\right)} - \\frac{L_{2} m_{2} ω^{2} \\cos{\\left(t ω \\right)}}{2} + N_{1} k \\sin{\\left(t ω \\right)} - N_{1} m_{1} ω^{2} \\sin{\\left(t ω \\right)} - N_{1} m_{2} ω^{2} \\sin{\\left(t ω \\right)} - \\frac{N_{2} m_{2} ω^{2} \\sin{\\left(t ω \\right)}}{2}\\\\- \\frac{L_{1} m_{2} ω^{2} \\cos{\\left(t ω \\right)}}{2} + \\frac{L_{2} g m_{2} \\cos{\\left(t ω \\right)}}{2 l} - \\frac{L_{2} m_{2} ω^{2} \\cos{\\left(t ω \\right)}}{3} - \\frac{N_{1} m_{2} ω^{2} \\sin{\\left(t ω \\right)}}{2} + \\frac{N_{2} g m_{2} \\sin{\\left(t ω \\right)}}{2 l} - \\frac{N_{2} m_{2} ω^{2} \\sin{\\left(t ω \\right)}}{3}\\end{matrix}\\right]$"
      ],
      "text/plain": [
       "⎡                                                               2             \n",
       "⎢                       2                   2            L₂⋅m₂⋅ω ⋅cos(t⋅ω)    \n",
       "⎢L₁⋅k⋅cos(t⋅ω) - L₁⋅m₁⋅ω ⋅cos(t⋅ω) - L₁⋅m₂⋅ω ⋅cos(t⋅ω) - ───────────────── + N\n",
       "⎢                                                                2            \n",
       "⎢                                                                             \n",
       "⎢                         2                                      2            \n",
       "⎢                  L₁⋅m₂⋅ω ⋅cos(t⋅ω)   L₂⋅g⋅m₂⋅cos(t⋅ω)   L₂⋅m₂⋅ω ⋅cos(t⋅ω)   \n",
       "⎢                - ───────────────── + ──────────────── - ───────────────── - \n",
       "⎣                          2                 2⋅l                  3           \n",
       "\n",
       "                                                              2         ⎤\n",
       "                      2                   2            N₂⋅m₂⋅ω ⋅sin(t⋅ω)⎥\n",
       "₁⋅k⋅sin(t⋅ω) - N₁⋅m₁⋅ω ⋅sin(t⋅ω) - N₁⋅m₂⋅ω ⋅sin(t⋅ω) - ─────────────────⎥\n",
       "                                                               2        ⎥\n",
       "                                                                        ⎥\n",
       "       2                                      2                         ⎥\n",
       "N₁⋅m₂⋅ω ⋅sin(t⋅ω)   N₂⋅g⋅m₂⋅sin(t⋅ω)   N₂⋅m₂⋅ω ⋅sin(t⋅ω)                ⎥\n",
       "───────────────── + ──────────────── - ─────────────────                ⎥\n",
       "        2                 2⋅l                  3                        ⎦"
      ]
     },
     "execution_count": 19,
     "metadata": {},
     "output_type": "execute_result"
    }
   ],
   "source": [
    "# Végeztessük el az idő szerinti deriváltakat (mint látható, még szimbolikus alakban vannak)\n",
    "eom_stat = sp.Matrix([elem.doit().expand() for elem in eom.lhs.subs([(x1,qp[0]),(x2,qp[1])])])\n",
    "eom_stat\n",
    "# érdekes módon nem működik a `.applyfunc(sp.doit)` függvény, ezért \n",
    "# egy `list comprehension`-ben kellet elemenként alkalmazni"
   ]
  },
  {
   "cell_type": "code",
   "execution_count": 20,
   "metadata": {},
   "outputs": [
    {
     "data": {
      "text/latex": [
       "$\\displaystyle \\left[\\begin{matrix}- 1100 L_{1} - 200 L_{2}\\\\- 200 L_{1} - 123.523333333333 L_{2}\\\\- 1100 N_{1} - 200 N_{2}\\\\- 200 N_{1} - 123.523333333333 N_{2}\\end{matrix}\\right] = \\left[\\begin{matrix}1.0 + \\frac{5 \\sqrt{3}}{2}\\\\\\frac{5 \\sqrt{3}}{2}\\\\\\frac{5}{2}\\\\\\frac{5}{2}\\end{matrix}\\right]$"
      ],
      "text/plain": [
       "                                  ⎡      5⋅√3⎤\n",
       "                                  ⎢1.0 + ────⎥\n",
       "⎡      -1100⋅L₁ - 200⋅L₂      ⎤   ⎢       2  ⎥\n",
       "⎢                             ⎥   ⎢          ⎥\n",
       "⎢-200⋅L₁ - 123.523333333333⋅L₂⎥   ⎢   5⋅√3   ⎥\n",
       "⎢                             ⎥ = ⎢   ────   ⎥\n",
       "⎢      -1100⋅N₁ - 200⋅N₂      ⎥   ⎢    2     ⎥\n",
       "⎢                             ⎥   ⎢          ⎥\n",
       "⎣-200⋅N₁ - 123.523333333333⋅N₂⎦   ⎢   5/2    ⎥\n",
       "                                  ⎢          ⎥\n",
       "                                  ⎣   5/2    ⎦"
      ]
     },
     "execution_count": 20,
     "metadata": {},
     "output_type": "execute_result"
    }
   ],
   "source": [
    "# Válogassuk ki `cos(ωt)` és `sin(ωt)` együtthatóit\n",
    "coscoeff = sp.Matrix([elem.coeff(sp.cos(ω*t)) for elem in eom_stat])\n",
    "sincoeff = sp.Matrix([elem.coeff(sp.sin(ω*t)) for elem in eom_stat])\n",
    "\n",
    "# Tegyük őket be egy vektorba, majd azt tegyük egyenlővé az általános erő \n",
    "# kifejezésében lévő `cos(ωt)` és `sin(ωt)` együtthatóival. Helyettesítsük\n",
    "# be a numerikus adatokat.\n",
    "\n",
    "tmp = sp.Eq(sp.Matrix([coscoeff,sincoeff]).subs(adatok),sp.Matrix([[Fc],[Fs]]).subs(adatok))\n",
    "tmp"
   ]
  },
  {
   "cell_type": "code",
   "execution_count": 21,
   "metadata": {},
   "outputs": [
    {
     "data": {
      "image/png": "[encoded data removed]",
      "text/latex": [
       "$\\displaystyle \\left\\{ L_{1} : 0.00216562089772979, \\  L_{2} : -0.0385615500321248, \\  N_{1} : 0.00199416257861746, \\  N_{2} : -0.023467894182396\\right\\}$"
      ],
      "text/plain": [
       "{L₁: 0.00216562089772979, L₂: -0.0385615500321248, N₁: 0.00199416257861746, N₂\n",
       ": -0.023467894182396}"
      ]
     },
     "execution_count": 21,
     "metadata": {},
     "output_type": "execute_result"
    }
   ],
   "source": [
    "# Oldjuk meg az egyenletrendszert\n",
    "megold = sp.solve(tmp,L1,L2,N1,N2)\n",
    "megold # méterben"
   ]
  },
  {
   "cell_type": "code",
   "execution_count": 22,
   "metadata": {},
   "outputs": [
    {
     "data": {
      "text/latex": [
       "$\\displaystyle \\left[\\begin{matrix}\\operatorname{x_{1}}{\\left(t \\right)}\\\\\\operatorname{x_{2}}{\\left(t \\right)}\\end{matrix}\\right] = \\left[\\begin{matrix}0.001994 \\sin{\\left(20 t \\right)} + 0.002166 \\cos{\\left(20 t \\right)}\\\\- 0.02347 \\sin{\\left(20 t \\right)} - 0.03856 \\cos{\\left(20 t \\right)}\\end{matrix}\\right]$"
      ],
      "text/plain": [
       "⎡x₁(t)⎤   ⎡0.001994⋅sin(20⋅t) + 0.002166⋅cos(20⋅t)⎤\n",
       "⎢     ⎥ = ⎢                                       ⎥\n",
       "⎣x₂(t)⎦   ⎣-0.02347⋅sin(20⋅t) - 0.03856⋅cos(20⋅t) ⎦"
      ]
     },
     "execution_count": 22,
     "metadata": {},
     "output_type": "execute_result"
    }
   ],
   "source": [
    "# Tehát a partikuláris megoldásunk:\n",
    "eom_stat_num = sp.Eq(q,qp.subs(megold).subs(adatok).evalf(4))\n",
    "eom_stat_num"
   ]
  },
  {
   "cell_type": "markdown",
   "metadata": {},
   "source": [
    "### 3. Feladat"
   ]
  },
  {
   "cell_type": "code",
   "execution_count": 23,
   "metadata": {},
   "outputs": [
    {
     "data": {
      "text/latex": [
       "$\\displaystyle x_{2,\\mathrm{max}} = 0.04514\\ \\mathrm{m}$"
      ],
      "text/plain": [
       "<IPython.core.display.Math object>"
      ]
     },
     "metadata": {},
     "output_type": "display_data"
    },
    {
     "data": {
      "text/latex": [
       "$\\displaystyle \\varphi_{\\mathrm{max}} = 0.09028\\ \\mathrm{rad}$"
      ],
      "text/plain": [
       "<IPython.core.display.Math object>"
      ]
     },
     "metadata": {},
     "output_type": "display_data"
    }
   ],
   "source": [
    "# Az állandósult állapotbeli megoldás `x_2`-re nézve:\n",
    "x2_stat = eom_stat_num.rhs[1]\n",
    "x2_stat\n",
    "# ennek keressük a maximumát\n",
    "\n",
    "# Ezt analitikusan sokkal egyszerűbb megoldani, mint deriválással\n",
    "x2_max = sp.sqrt(megold[L2]**2+megold[N2]**2).evalf(4)\n",
    "display(Math('x_{{2,\\mathrm{{max}}}} = {}\\\\ \\mathrm{{m}}'.format(sp.latex(x2_max))))\n",
    "\n",
    "φ_max = φ_expr.subs(adatok).subs(x2,x2_max).evalf(4)\n",
    "display(Math('\\\\varphi_{{\\mathrm{{max}}}} = {}\\\\ \\mathrm{{rad}}'.format(sp.latex(φ_max))))"
   ]
  },
  {
   "cell_type": "markdown",
   "metadata": {},
   "source": [
    "Készítette:\n",
    "\n",
    "        Csuzdi Domonkos (Alkalmazott Mechanika Szakosztály)\n",
    "        Molnár Csenge Andrea (BME MM) kidolgozása alapján.\n",
    "\n",
    "        Hibák, javaslatok:\n",
    "        amsz.bme@gmail.com\n",
    "        csuzdi02@gmail.com\n",
    "\n",
    "        2021.04.25"
   ]
  }
 ],
 "metadata": {
  "kernelspec": {
   "display_name": "Python 3",
   "language": "python",
   "name": "python3"
  },
  "language_info": {
   "codemirror_mode": {
    "name": "ipython",
    "version": 3
   },
   "file_extension": ".py",
   "mimetype": "text/x-python",
   "name": "python",
   "nbconvert_exporter": "python",
   "pygments_lexer": "ipython3",
   "version": "3.8.5"
  }
 },
 "nbformat": 4,
 "nbformat_minor": 4
}
